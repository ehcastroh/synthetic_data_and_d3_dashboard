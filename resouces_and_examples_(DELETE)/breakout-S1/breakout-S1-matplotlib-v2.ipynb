{
 "cells": [
  {
   "cell_type": "markdown",
   "metadata": {},
   "source": [
    "<hr style=\"border: 4px solid#0B0B0B;\" />\n",
    "\n",
    "# Breakout 1 - Plotting w Matplotlib\n",
    "\n",
    "**Author list:** Alexander Fred Ojala, and Elias Castro Hernandez\n",
    "\n",
    "**Source:** AY250, UC Berkeley\n",
    "\n",
    "**License Agreement:** Feel free to do whatever you want with this code"
   ]
  },
  {
   "cell_type": "markdown",
   "metadata": {},
   "source": [
    "<hr style=\"border: 1px solid#0B0B0B;\" />\n",
    "\n",
    "The data files are called: \n",
    "\n",
    "`google_data.txt, ny_temps.txt & yahoo_data.txt`,\n",
    "\n",
    "and they are placed in a folder called \"breakout1-data\" your working directory."
   ]
  },
  {
   "cell_type": "code",
   "execution_count": 6,
   "metadata": {
    "collapsed": true
   },
   "outputs": [
    {
     "name": "stdout",
     "output_type": "stream",
     "text": [
      "google_data.txt  ny_temps.txt  \u001b[0m\u001b[01;35mstocks.png\u001b[0m  yahoo_data.txt\n"
     ]
    }
   ],
   "source": [
    "# use magickeys to ensure that the following files are in the breakout1-data directory\n",
    "# google_data.txt  ny_temps.txt     stocks.png       yahoo_data.txt\n",
    "%ls ./breakout1-data"
   ]
  },
  {
   "cell_type": "markdown",
   "metadata": {},
   "source": [
    "### Breakout problem\n",
    "\n",
    "<hr style=\"border: 1px solid#0B0B0B;\" />\n",
    "\n",
    "Use your knowledge with `Python, NumPy, pandas and matplotlib` to reproduce the plot below:\n",
    "\n",
    "<div align=\"center\">\n",
    "    <img src= \"/breakout-S1/answer.png\" align=\"center\" width=\"50%\"> \n",
    "</div>\n",
    "<hr style=\"border: 1px solid#0B0B0B;\" />"
   ]
  },
  {
   "cell_type": "code",
   "execution_count": 7,
   "metadata": {
    "collapsed": true
   },
   "outputs": [],
   "source": [
    "# start by loading data and packages\n",
    "import pandas as pd\n",
    "import numpy as np\n",
    "from io import StringIO\n",
    "import matplotlib.pyplot as plt\n",
    "google_data = pd.read_csv(StringIO(\"/breakout-S1/breakout-data/google_data.txt\"),sep=\"\\t\") # Note data seperator (\\t) splits data by tab, or as a table\n",
    "yahoo_data = pd.read_csv(StringIO(\"breakout-S1/breakout-data/yahoo_data.txt\"),sep=\"\\t\")\n",
    "ny_temps = pd.read_csv(StringIO(\"breakout-S1/data/ny_temps.txt\"),sep='\\t')"
   ]
  },
  {
   "cell_type": "code",
   "execution_count": null,
   "metadata": {},
   "outputs": [],
   "source": []
  }
 ],
 "metadata": {
  "anaconda-cloud": {},
  "kernelspec": {
   "display_name": "Python 3",
   "language": "python",
   "name": "python3"
  },
  "language_info": {
   "codemirror_mode": {
    "name": "ipython",
    "version": 3
   },
   "file_extension": ".py",
   "mimetype": "text/x-python",
   "name": "python",
   "nbconvert_exporter": "python",
   "pygments_lexer": "ipython3",
   "version": "3.6.10"
  }
 },
 "nbformat": 4,
 "nbformat_minor": 2
}
