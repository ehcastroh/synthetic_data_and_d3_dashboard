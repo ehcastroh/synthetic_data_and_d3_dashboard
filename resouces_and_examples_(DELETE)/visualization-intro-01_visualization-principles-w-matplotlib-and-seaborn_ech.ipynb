{
 "cells": [
  {
   "cell_type": "markdown",
   "metadata": {
    "slideshow": {
     "slide_type": "slide"
    }
   },
   "source": [
    "# "
   ]
  },
  {
   "cell_type": "markdown",
   "metadata": {
    "cell_style": "center",
    "slideshow": {
     "slide_type": "slide"
    }
   },
   "source": [
    "<h3>Design in News Print</h3> \n",
    "<hr style=\"border: 1px solid#0B0B0B;\"/>\n",
    "    \n",
    "<div align=\"center\">\n",
    "    <img src= \"./data/story_images/sf-fire_newspaper.jpg\" style=\"align:center\" align=\"center\" width=\"30%\">\n",
    "</div>"
   ]
  },
  {
   "cell_type": "markdown",
   "metadata": {
    "slideshow": {
     "slide_type": "slide"
    }
   },
   "source": [
    "<div style=\"text-align:left; padding:0px 20px; font-family:FreeMono; font-weight:100; font-stretch:ultra-condensed; font-size:30px; color:#2A2C2B\">\n",
    "    THE BRAIN DOES FAR MORE THAN JUST PROCESS VISUAL STIMULI, \n",
    "    <strong>IT CREATES FULLY REALIZED MENTAL VISUAL IMAGES</strong>  \n",
    "    WHICH CAN BE PERCEIVED, EXPLORED, AND USED IN NOVEL WAYS.\n",
    "</div>"
   ]
  },
  {
   "cell_type": "code",
   "execution_count": 31,
   "metadata": {
    "slideshow": {
     "slide_type": "skip"
    }
   },
   "outputs": [],
   "source": [
    "### Display plotly iframe within HTML ###\n",
    "from IPython.display import HTML\n",
    "\n",
    "### Embed videos in HTML Grids (more than one way to create columns!) ###\n",
    "sexual_wallpaper = HTML(\"\"\"\n",
    "    <h3>Design in Album Covers</h3> \n",
    "    <hr style=\"border: 1px solid#0B0B0B;\"/>\n",
    "    <table role=\"module\" background-color:#000000 border=\"0\" cellpadding=\"0\" cellspacing=\"0\" width=\"100%\" height=\"500\" style=\"table-layout:fixed\">\n",
    "        <tbody><tr> \n",
    "            <!--padding: t,r,b,l-->\n",
    "           \n",
    "            <!-- LEFT COLUMN -->\n",
    "            <td style=\"background-color:#111111;padding:20px;text-align:center\" height=\"100%\" width=\"70%\" valign=\"center\" bgcolor=\"#51EA50\">\n",
    "                <div style=\"text-align:center; padding:0px 0px\" >\n",
    "\n",
    "                    <!-- EMBEDDED VIDEO -->\n",
    "                    <iframe padding:10px width=\"100%\" height=\"500\" src=\"https://www.youtube.com/embed/TLDflhhdPCg?controls=0&start=2&autoplay=0&vq=hd1080\" \n",
    "                        frameborder=\"0\" allow=\"accelerometer; autoplay; encrypted-media; gyroscope; picture-in-picture\" allowfullscreen>\n",
    "                    </iframe>\n",
    "                    \n",
    "                </div>\n",
    "                \n",
    "                <!-- TEXT STACK -->\n",
    "                <div style=\"padding: 0px 10px;text-align:center; box-sizing:content-box;margin-top:0px; margin-bottom:0px;\n",
    "                    font-style:normal;font-variant-ligatures:normal;font-variant-caps:normal;font-weight:400;\n",
    "                    font-family:'Open Sans','Helvetica Neue', Helvetica, Arial, sans-serif;font-size:14px;color:rgb(74,74,74)\">&nbsp;\n",
    "                    <span style=\"font-size:20px; color: #3498DB\"></span>\n",
    "                </div>\n",
    "            </td>\n",
    "            \n",
    "            <!-- RIGHT COLUMN -->\n",
    "            <td style=\"background-color:#111111;padding:0px 30px 0px 30px ;text-align:left\" height=\"100%\" width=\"30%\" valign=\"bottom\" bgcolor=\"#E950EA\">\n",
    "                \n",
    "                <!-- TEXT STACK -->\n",
    "                <div style=\"padding:0px 20px 0px 0px;text-align:right; box-sizing:content-box;margin-top:0px; margin-bottom:0px;\n",
    "                    font-weight:400;font-family:'sans-serif';font-size:18px;color:rgb(74,74,74)\">&nbsp;\n",
    "                    <span style=\"font-size:28px; color: #3498db\">“Sexual Wallpaper”</span>\n",
    "                </div>\n",
    "                <div style=\"padding:0px 20px 0px 0px;text-align:right; box-sizing:content-box;margin-top:40px; margin-bottom:0px;\n",
    "                    font-style:normal;font-variant-ligatures:normal;font-variant-caps:normal;font-weight:100;\n",
    "                    font-family:Helvetica; font-size:24px;\">&nbsp;\n",
    "                        <span style=\"font-size:30px; color: #efefef\">-DONALD FAGEN (STEELY DAN)<span>\n",
    "                </div>\n",
    "                \n",
    "            </td>\n",
    "        </tr></tbody>\n",
    "    </table>\n",
    "    \"\"\"\n",
    "    )\n",
    "### Psst! In the iframe tag, note the query arguments being pased after the video id -- '?&' -- These queries can make selecting the type of data you want to display much easier ###"
   ]
  },
  {
   "cell_type": "code",
   "execution_count": 32,
   "metadata": {
    "slideshow": {
     "slide_type": "slide"
    }
   },
   "outputs": [
    {
     "data": {
      "text/html": [
       "\n",
       "    <h3>Design in Album Covers</h3> \n",
       "    <hr style=\"border: 1px solid#0B0B0B;\"/>\n",
       "    <table role=\"module\" background-color:#000000 border=\"0\" cellpadding=\"0\" cellspacing=\"0\" width=\"100%\" height=\"500\" style=\"table-layout:fixed\">\n",
       "        <tbody><tr> \n",
       "            <!--padding: t,r,b,l-->\n",
       "           \n",
       "            <!-- LEFT COLUMN -->\n",
       "            <td style=\"background-color:#111111;padding:20px;text-align:center\" height=\"100%\" width=\"70%\" valign=\"center\" bgcolor=\"#51EA50\">\n",
       "                <div style=\"text-align:center; padding:0px 0px\" >\n",
       "\n",
       "                    <!-- EMBEDDED VIDEO -->\n",
       "                    <iframe padding:10px width=\"100%\" height=\"500\" src=\"https://www.youtube.com/embed/TLDflhhdPCg?controls=0&start=2&autoplay=0&vq=hd1080\" \n",
       "                        frameborder=\"0\" allow=\"accelerometer; autoplay; encrypted-media; gyroscope; picture-in-picture\" allowfullscreen>\n",
       "                    </iframe>\n",
       "                    \n",
       "                </div>\n",
       "                \n",
       "                <!-- TEXT STACK -->\n",
       "                <div style=\"padding: 0px 10px;text-align:center; box-sizing:content-box;margin-top:0px; margin-bottom:0px;\n",
       "                    font-style:normal;font-variant-ligatures:normal;font-variant-caps:normal;font-weight:400;\n",
       "                    font-family:'Open Sans','Helvetica Neue', Helvetica, Arial, sans-serif;font-size:14px;color:rgb(74,74,74)\">&nbsp;\n",
       "                    <span style=\"font-size:20px; color: #3498DB\"></span>\n",
       "                </div>\n",
       "            </td>\n",
       "            \n",
       "            <!-- RIGHT COLUMN -->\n",
       "            <td style=\"background-color:#111111;padding:0px 30px 0px 30px ;text-align:left\" height=\"100%\" width=\"30%\" valign=\"bottom\" bgcolor=\"#E950EA\">\n",
       "                \n",
       "                <!-- TEXT STACK -->\n",
       "                <div style=\"padding:0px 20px 0px 0px;text-align:right; box-sizing:content-box;margin-top:0px; margin-bottom:0px;\n",
       "                    font-weight:400;font-family:'sans-serif';font-size:18px;color:rgb(74,74,74)\">&nbsp;\n",
       "                    <span style=\"font-size:28px; color: #3498db\">“Sexual Wallpaper”</span>\n",
       "                </div>\n",
       "                <div style=\"padding:0px 20px 0px 0px;text-align:right; box-sizing:content-box;margin-top:40px; margin-bottom:0px;\n",
       "                    font-style:normal;font-variant-ligatures:normal;font-variant-caps:normal;font-weight:100;\n",
       "                    font-family:Helvetica; font-size:24px;\">&nbsp;\n",
       "                        <span style=\"font-size:30px; color: #efefef\">-DONALD FAGEN (STEELY DAN)<span>\n",
       "                </div>\n",
       "                \n",
       "            </td>\n",
       "        </tr></tbody>\n",
       "    </table>\n",
       "    "
      ],
      "text/plain": [
       "<IPython.core.display.HTML object>"
      ]
     },
     "execution_count": 32,
     "metadata": {},
     "output_type": "execute_result"
    }
   ],
   "source": [
    "sexual_wallpaper"
   ]
  },
  {
   "cell_type": "markdown",
   "metadata": {
    "slideshow": {
     "slide_type": "slide"
    }
   },
   "source": [
    "<div style=\"text-align:left; padding:0px 50px; font-family:FreeMono; font-weight:100; font-stretch:ultra-condensed; font-size:30px;color:#2A2C2B\">\n",
    "    <strong>My take:</strong><br> \n",
    "     At first glance it offers you glimpse of what is to come, of what you're getting into. \n",
    "     Upon experiencing and reflecting, it tells you everything there is to know. \n",
    "</div>"
   ]
  },
  {
   "cell_type": "code",
   "execution_count": 4,
   "metadata": {
    "slideshow": {
     "slide_type": "slide"
    }
   },
   "outputs": [
    {
     "data": {
      "text/html": [
       "\n",
       "        <h3>Design in Title Sequences</h3> \n",
       "            <hr style=\"border: 1px solid#0B0B0B;\"/>\n",
       "            <div style=\"text-align: center\">\n",
       "                <iframe width=\"80%\" height=\"600\" src=\"https://www.youtube.com/embed/Zj21AO8uCNU?controls=0&start=1&autoplay=0&vq=hd1080\" \n",
       "                frameborder=\"0\" allow=\"accelerometer; autoplay; encrypted-media; gyroscope; picture-in-picture\" allowfullscreen>\n",
       "                </iframe>\n",
       "            </div>\n",
       "    "
      ],
      "text/plain": [
       "<IPython.core.display.HTML object>"
      ]
     },
     "execution_count": 4,
     "metadata": {},
     "output_type": "execute_result"
    }
   ],
   "source": [
    "### 99% Invicible: Title Sequences (~8mins) ###\n",
    "from IPython.display import HTML\n",
    "HTML(\"\"\"\n",
    "        <h3>Design in Title Sequences</h3> \n",
    "            <hr style=\"border: 1px solid#0B0B0B;\"/>\n",
    "            <div style=\"text-align: center\">\n",
    "                <iframe width=\"80%\" height=\"600\" src=\"https://www.youtube.com/embed/Zj21AO8uCNU?controls=0&start=1&autoplay=0&vq=hd1080\" \n",
    "                frameborder=\"0\" allow=\"accelerometer; autoplay; encrypted-media; gyroscope; picture-in-picture\" allowfullscreen>\n",
    "                </iframe>\n",
    "            </div>\n",
    "    \"\"\")\n"
   ]
  },
  {
   "cell_type": "code",
   "execution_count": 6,
   "metadata": {
    "slideshow": {
     "slide_type": "slide"
    }
   },
   "outputs": [
    {
     "data": {
      "text/html": [
       "\n",
       "     <h3>Design in Visual Storytelling</h3> \n",
       "     <hr style=\"border: 1px solid#0B0B0B;\"/>\n",
       "         <div style=\"text-align: center\">\n",
       "             <iframe width=\"80%\" height=\"600\" src=\"http://www.carniklirs.com/project/fugazi\" \n",
       "             frameborder=\"0\" allow=\"accelerometer; autoplay; encrypted-media; gyroscope; picture-in-picture\" allowfullscreen>\n",
       "             </iframe>\n",
       "         </div>\n",
       "    "
      ],
      "text/plain": [
       "<IPython.core.display.HTML object>"
      ]
     },
     "execution_count": 6,
     "metadata": {},
     "output_type": "execute_result"
    }
   ],
   "source": [
    "### Visualization Example ###\n",
    "HTML(\"\"\"\n",
    "     <h3>Design in Visual Storytelling</h3> \n",
    "     <hr style=\"border: 1px solid#0B0B0B;\"/>\n",
    "         <div style=\"text-align: center\">\n",
    "             <iframe width=\"80%\" height=\"600\" src=\"http://www.carniklirs.com/project/fugazi\" \n",
    "             frameborder=\"0\" allow=\"accelerometer; autoplay; encrypted-media; gyroscope; picture-in-picture\" allowfullscreen>\n",
    "             </iframe>\n",
    "         </div>\n",
    "    \"\"\")\n"
   ]
  },
  {
   "cell_type": "markdown",
   "metadata": {
    "slideshow": {
     "slide_type": "slide"
    }
   },
   "source": [
    "<div style=\"text-align:left; padding:0px 50px; font-family:FreeMono; font-weight:100; font-stretch:ultra-condensed;font-size:30px;color:#4BA6C9\">\n",
    "    THE RELATIONSHIP BETWEEN VISUALIZATION AND ART IS AKIN TO THE RELATIONSHIP BETWEEN JOURNALISM AND LITERATURE.\n",
    "</div>\n",
    "<div style=\"text-align:right; padding:20px 100px; font-family:FreeMono; font-size:20px;color:#4BA6C9\">\n",
    "    <strong>- The Functional Art</strong>\n",
    "</div>"
   ]
  },
  {
   "cell_type": "markdown",
   "metadata": {
    "slideshow": {
     "slide_type": "slide"
    }
   },
   "source": [
    "### [aside 1] A look at Jupyter --> it's flexible (RISE, Notebook, Lab, and EDA fun)"
   ]
  },
  {
   "cell_type": "code",
   "execution_count": 7,
   "metadata": {},
   "outputs": [
    {
     "data": {
      "image/png": "[encoded data removed]",
      "text/plain": [
       "<Figure size 432x288 with 1 Axes>"
      ]
     },
     "metadata": {
      "needs_background": "light"
     },
     "output_type": "display_data"
    }
   ],
   "source": [
    "import numpy as np\n",
    "import matplotlib.pyplot as plt\n",
    "\n",
    "plt.plot([1,2,3])       # single list being passed\n",
    "plt.ylabel('Eyeballs')\n",
    "plt.xlabel('Heads')\n",
    "\n",
    "plt.show()\n",
    "\n",
    "# sure wish there was a way for me to take notes\n",
    "# on this profound image..."
   ]
  },
  {
   "cell_type": "markdown",
   "metadata": {},
   "source": [
    "## Oh Boy!\n",
    "\n",
    "<strong>To Do:</strong> change y-label to 'brains' \n",
    "<br>\n",
    "<strong>Note:</strong> what is going on with that list parameter? More on this later."
   ]
  },
  {
   "cell_type": "code",
   "execution_count": null,
   "metadata": {},
   "outputs": [],
   "source": [
    "### RISE vs. Slides ###\n",
    "\n",
    "\"rise\":{\n",
    "    \"backimage\": \"your_face.jpg\",\n",
    "    \"header\": \"<h1>Hello</h1>\",\n",
    "    \"footer\": \"<h3>Data-X</h3>\"\n",
    "}"
   ]
  },
  {
   "cell_type": "markdown",
   "metadata": {
    "slideshow": {
     "slide_type": "slide"
    }
   },
   "source": [
    "<div style=\"text-align:center; padding:0px 50px; font-family:FreeMono; font-weight:100; font-stretch:ultra-condensed;font-size:80px;color:#4BA6C9\">\n",
    "    SHOW, DON'T TELL.\n",
    "</div>\n"
   ]
  },
  {
   "cell_type": "markdown",
   "metadata": {
    "slideshow": {
     "slide_type": "fragment"
    }
   },
   "source": [
    "<div style=\"text-align:left; padding:20px 50px; font-family:FreeMono; font-weight:100; font-stretch:ultra-condensed; font-size:30px;color:#2A2C2B\">\n",
    "    <strong>If you do not give access and control to your users, that is the power to see for themselves, \n",
    "    why should they believe anything your visualizations say?</strong>\n",
    "</div>\n"
   ]
  },
  {
   "cell_type": "markdown",
   "metadata": {
    "slideshow": {
     "slide_type": "slide"
    }
   },
   "source": [
    "<hr style=\"border: 8px solid#0B0B0B;\" />\n",
    "<br>\n",
    "\n",
    "<!--![data-x](data/innovation_engineering.png)-->\n",
    "\n",
    "<div align=\"center\">\n",
    "    <img src= \"./data/story_images/predli_header.png\" align=\"Center\" width=\"25%\">\n",
    "</div>\n",
    "\n",
    "<br>\n",
    "\n",
    "</br>\n",
    "\n",
    "</br>\n",
    "\n",
    "<div align=\"left\" style=\"font-size:32px; font-family:FreeMono; font-weight: 100; font-stretch:ultra-condensed; line-height:1.2; color:#2A2C2B\">\n",
    "    <strong>INTRODUCTION TO DATA TYPES &amp; VISUALIZATION PRINCIPLES</strong> <br>WITH MATPLOTLIB + SEABORN\n",
    "</div>\n",
    "\n",
    "<br>\n",
    "\n",
    "\n",
    "\n",
    "**Author list:** Elias Castro Hernandez (**ehcastroh** is my handle for everything...linkedin, github, gmail, etc.)\n",
    "\n",
    "**Main Reference(s):** The Grammar of Graphics by Leland Wilkinson, Stanfords's CS 448B - Data Visualization Techniques Class, Nicolas P. Rougier's Matplotlib Tutorial, Alexander Fred-Ojala's Data-X Visualization Notebook, Code Academy Tutorials (Seaborn), and the works of Edward Tufte.\n",
    "\n",
    "**Learning Goal(s):** The goal of this series of notebooks is to provide users with the necessary foundations for building and undertanding current state of the art visualizations. An additional aim is to provide users with an understanding of both the theory and techniques of various visualization paradigms. Finally, this series of notebooks seeks to provide sufficient knowledge to users so that they may build & evaluate various visualization systems, read & discuss visualization literature, and successfully convey visual information.\n",
    "\n",
    "\n",
    "**Copright:** Feel free to do whatever you want with this code."
   ]
  },
  {
   "cell_type": "markdown",
   "metadata": {
    "cell_style": "center",
    "slideshow": {
     "slide_type": "subslide"
    }
   },
   "source": [
    "<hr style=\"border: 5px solid#0B0B0B;\" />\n",
    "\n",
    "<a name='Part_table_contents' id=\"Part_table_contents\"></a>"
   ]
  },
  {
   "cell_type": "markdown",
   "metadata": {
    "slideshow": {
     "slide_type": "subslide"
    }
   },
   "source": [
    "\n",
    "<div align=\"left\" style=\"font-size:22px; font-family:FreeMono; font-weight: 100; line-height: 1.2; color:#2A2C2B\">\n",
    "    <strong>PRINCIPLES OF VISUALIZATION AND MATPLOTLIB + SEABORN</strong> <br>\n",
    "</div>\n",
    "\n",
    "<br>\n",
    "    \n",
    "Matplotlib is the standard plotting library in Python. It is well tested, well maintained and it has been around since ~2003. It also has a great support community.\n",
    "\n",
    "Matplotlib is highly customizable and sometimes it takes a lot of code to make a plot look like you want. It would take over a semester to go through all of the commands and aspects in matplotlib, therefore this notebook only works as a gentle introduciton.\n",
    "\n",
    "Many other plotting libraries (like `seaborn, pandas, bokeh, plotly, ` etc.) are built on top / integrate well with matplotlib. Therefore, it is an important package to know."
   ]
  },
  {
   "cell_type": "markdown",
   "metadata": {
    "slideshow": {
     "slide_type": "subslide"
    }
   },
   "source": [
    "#### CONTENTS\n",
    "\n",
    "> #### [Part 0: RISE](#Part_0)\n",
    "\n",
    "> #### [Part 1: PRINCIPLES OF VISUALIZATION](#Part_1)\n",
    "\n",
    "> #### [Part 2: MATPLOTLIB](#Part_2)\n",
    "\n",
    "> #### [Part 3: SEABORN](#Part_3)"
   ]
  },
  {
   "cell_type": "markdown",
   "metadata": {
    "slideshow": {
     "slide_type": "subslide"
    }
   },
   "source": [
    "#### ADDITIONAL MATERIAL\n",
    "\n",
    "> #### [APPENDIX I: REFERENCES AND ADDITIONAL RESOURCES](#Appendix_I) \n",
    "\n",
    "> #### [APPENDIX II: GALLERY OF VISUALIZATIONS AND ADDITIONAL RESOURCES](#Appendix_II) "
   ]
  },
  {
   "cell_type": "markdown",
   "metadata": {
    "slideshow": {
     "slide_type": "slide"
    }
   },
   "source": [
    "<a id='Part_0'></a>\n",
    "<hr style=\"border: 4px solid#0B0B0B;\" />\n",
    "\n",
    "#### PART 0\n",
    "\n",
    "<br>\n",
    "\n",
    "<div align=\"left\" style=\"font-size:32px; font-family:FreeMono; font-weight: 100; font-stretch:ultra-condensed; line-height: 1.0; color:#2A2C2B\">\n",
    "    <strong>RISE:</strong><br> EXECUTABLE<strong> SLIDE-DECKS</strong>\n",
    "</div>\n",
    "\n",
    "<br>\n",
    "\n",
    "<strong>About RISE:</strong> We are increasingly becoming accustomed to interacting with information, and this is an area where RISE offers a powerful alternative to Slides/Powerpoint.  RISE allows you to create slide-like presentations, where slides can fully execute code. This grants profound opportunities to both create more engaging visual storytelling, and allow your users an opportunity to interact with the information you present.\n",
    "\n",
    "<br>\n",
    "\n",
    "**General Information**\n",
    "\n",
    "##### **[1. Install RISE ](#Part_0_1)** \n",
    ">https://github.com/damianavila/RISE\n",
    "\n",
    "##### **[2. Create a Slideshow ](#Part_0_2)**\n",
    ">https://rise.readthedocs.io/en/stable/usage.html#creating-a-slideshow\n",
    "\n",
    "##### **[3. Optional: Customizing RISE ](#Part_0_3)** \n",
    ">https://rise.readthedocs.io/en/stable/customize.html"
   ]
  },
  {
   "cell_type": "markdown",
   "metadata": {
    "slideshow": {
     "slide_type": "subslide"
    }
   },
   "source": [
    "<a id='Part_0_1'></a>\n",
    "<hr style=\"border: 1px solid#0B0B0B;\" />\n",
    "\n",
    "### **0.1 Install RISE**\n",
    "\n",
    "**Note:** Anaconda does not come with seaborn, please install it in your virtual environment by running:\n",
    "```bash\n",
    "# in a new terminal\n",
    "conda intall -c conda-forge rise # recommended approach\n",
    "```\n",
    "OR\n",
    "```python\n",
    "# in jupyter using magic keys and python\n",
    "! pip install RISE \n",
    "! jupyter-nbextension install rise --py --sys-prefix\n",
    "```\n",
    "\n",
    "\n",
    "- **RISE:** is a **Live** slideshow framework, rendered using *Reveal.js*, that enables users to create beautiful HTML-based  presentations.\n"
   ]
  },
  {
   "cell_type": "markdown",
   "metadata": {
    "slideshow": {
     "slide_type": "subslide"
    }
   },
   "source": [
    "<a id='Part_0_2'></a>\n",
    "<hr style=\"border: 1px solid#0B0B0B;\" />\n",
    "\n",
    "### **0.2 Create a Slideshow**\n",
    "\n",
    "1. **Create Notebook:** just do what you would normally do.\n",
    "\n",
    "2. **Change to Presentation Mode:** Whenver you are ready, just follow the following:\n",
    "\n",
    "\n",
    "<div align=\"center\">\n",
    "    <img src= \"./data/story_images/02c_Visualiation_load_RISE.svg\" align=\"center\" width=\"50%\">\n",
    "</div>\n",
    "\n"
   ]
  },
  {
   "cell_type": "markdown",
   "metadata": {
    "slideshow": {
     "slide_type": "subslide"
    }
   },
   "source": [
    "3. **Select the Slide Type and Present**\n",
    "\n",
    "> **slide:** this cell is the beginning of a new slide\n",
    "\n",
    "> **subslide:** this cell is the beginning of a new subslide; that is to say, a new slide, but that reveal.js will display below the previous one instead of on the right;\n",
    "\n",
    "> **fragment:** this is to split the contents of one slide into pieces; a cell marked as a fragment will create a break inside the slide; it will not show up right away, you will need to press Space one more time to see it.\n",
    "\n",
    "> **skip:** this cell are ignored altogether in reveal mode, it will not appear either in the main view, nor in the speaker view.\n",
    "\n",
    "> **notes:** similarly, this cell is marked to be discarded from the main view, but is meant to appear in the speaker view."
   ]
  },
  {
   "cell_type": "markdown",
   "metadata": {
    "slideshow": {
     "slide_type": "skip"
    }
   },
   "source": [
    "<a id='Part_0_3'></a>\n",
    "<hr style=\"border: 1px solid#0B0B0B;\" />\n",
    "\n",
    "### **0.3 Optional: Customize RISE**\n",
    "\n",
    "1. **Easiest Way to Customize RISE (Jupyter Notebook):**\n",
    "\n",
    "> Modify Notebook Metadata using JSON \n",
    "\n",
    "<div align=\"center\">\n",
    "    <img src= \"./data/story_images/02c_Visualiation_lecture_customize_RISE.svg\" align=\"center\" width=\"40%\">\n",
    "</div>\n",
    "\n",
    "\n",
    "\n",
    "\n",
    "2. **Other Ways to Customize RISE:** https://rise.readthedocs.io/en/docs_hot_fixes/customize.html\n",
    "\n",
    "> * Using Python Scripts\n",
    "\n",
    "> * Using CSS and JavaScript\n",
    "\n"
   ]
  },
  {
   "cell_type": "markdown",
   "metadata": {
    "slideshow": {
     "slide_type": "skip"
    }
   },
   "source": [
    "<!--Navigate back to table of contents-->\n",
    "<div alig=\"right\" style=\"text-align: right\">\n",
    "    <span>\n",
    "        <a style=\"color:#FFFFFF; background-color:#0D0D0D; border:1px solid #FFFFFF; border-color:#FFFFFF;border-radius:5px;border-width:0px;display:inline-block;font-family:arial,helvetica,sans-serif;font-size:10px;letter-spacing:0px;line-height:10px;padding:10px 20px;text-align:center;text-decoration:none; align:center\" href=\"#Part_table_contents\" name=\"Table of Contents\"  id=\"Part_table_contents\"> \n",
    "            Table of Contents \n",
    "        </a>\n",
    "    </span>\n",
    "</div>\n",
    "<!-------------------------------------->"
   ]
  },
  {
   "cell_type": "markdown",
   "metadata": {
    "slideshow": {
     "slide_type": "slide"
    }
   },
   "source": [
    "<a id='Part_1'></a>\n",
    "<hr style=\"border: 4px solid#0B0B0B;\" />\n",
    "\n",
    "#### PART 1\n",
    "\n",
    "\n",
    "<br>\n",
    "\n",
    "<div align=\"left\" style=\"font-size:32px; font-family:FreeMono; font-weight: 100; font-stretch:ultra-condensed; line-height: 1.0; color:#2A2C2B\">\n",
    "    <strong>PRINCIPLES</strong><br>OF<strong> VISUALIZATION</strong>\n",
    "</div>\n",
    "\n",
    "\n",
    "<br>\n",
    "\n",
    "<br>\n",
    "\n",
    "<div align=\"center\">\n",
    "    <img src= \"./data/story_images/earliest_known_data_visualization.png\" align=\"center\" width=\"50%\">\n",
    "    \n",
    "    William Playfair 1759-1823\n",
    "</div>\n",
    "\n",
    "<br>\n",
    "\n",
    "<br>\n",
    "\n",
    "**Visualization is**\n",
    "\n",
    "> \"... finding the artificial memory that best supports our natural means of <strong>perception</strong>. [Bertin 1967]\"\n",
    "\n",
    "> \"The use of computer-generated, interactive, visual represenations of data to <strong>amplify cognition</strong>. [Card, mackinlay, and Shneiderman 1999]\"\n",
    "\n",
    "<br>\n",
    "\n",
    "\n",
    "\n",
    "##### **[1. Why Create Visualizations ](#Part_1_1)** \n",
    "\n",
    "##### **[2. Automating the design of graphical representation of relational data](#Part_1_2)** \n",
    ">https://en.wikipedia.org/wiki/Jock_D._Mackinlay\n",
    "\n",
    "##### **[3. Principles of Data Visualization](#Part_1_3)** \n",
    ">http://stat.pugetsound.edu/courses/class13/dataVisualization.pdf\n",
    "\n",
    "##### **[4. The Power of Visualization, Some Examples](#Part_1_4)** "
   ]
  },
  {
   "cell_type": "markdown",
   "metadata": {},
   "source": [
    "<a id='Part_1_1'></a>\n",
    "\n",
    "### **1.1 - Why do we create visualizations?** \n",
    "\n",
    "<hr style=\"border: 1px solid#0B0B0B;\" /><div align=\"center\">\n",
    "    <img src= \"./data/story_images/google_economist_visualization.png\" align=\"center\" width=\"40%\">\n",
    "</div>\n",
    "\n"
   ]
  },
  {
   "cell_type": "markdown",
   "metadata": {},
   "source": [
    "### <strong>Why do we create visualizations?</strong> \n",
    "\n",
    "<hr style=\"border: 1px solid#0B0B0B;\" />\n",
    "<div align=\"left\">\n",
    "    <span style=\"font-size:18px; color: #222222\"> &nbsp;  &nbsp; -To present an argument</span><br>\n",
    "    <span style=\"font-size:18px; color: #222222\"> &nbsp;  &nbsp; -To find patterns</span><br>\n",
    "    <span style=\"font-size:18px; color: #222222\"> &nbsp;  &nbsp; -To answer (or discover) questions</span><br>\n",
    "    <span style=\"font-size:18px; color: #222222\"> &nbsp;  &nbsp; -To make decisions</span><br>\n",
    "    <span style=\"font-size:18px; color: #222222\"> &nbsp;  &nbsp; -To tell a story</span><br>\n",
    "    <span style=\"font-size:18px; color: #222222\"> &nbsp;  &nbsp; -To inspire</span><br>\n",
    "</div>"
   ]
  },
  {
   "cell_type": "markdown",
   "metadata": {},
   "source": [
    "### To present an argument\n",
    "\n",
    "\n",
    "<hr style=\"border: 1px solid#0B0B0B;\" /><div align=\"center\">\n",
    "    <img src= \"/data/story_images/o_ring_rockets_tufts.jpg\" align=\"center\" width=\"40%\"><br><br>\n",
    "    How did poor data presentation lead to Challenger disaster? <br>\n",
    "    \n",
    "    https://stanfordmag.org/contents/elemental-evidence\n",
    "</div>"
   ]
  },
  {
   "cell_type": "markdown",
   "metadata": {},
   "source": [
    "### To find patterns\n",
    "\n",
    "<hr style=\"border: 1px solid#0B0B0B;\" /><div align=\"center\">\n",
    "    <img src= \"/data/story_images/VEp45_ring_damage2_tufts.jpg\" align=\"center\" width=\"50%\"><br><br>\n",
    "    Originally o-ring performance dat was arranged by launch date, instead of the critical factor, temperature...<br>\n",
    "    The launch proceeded when temp was 36 degrees, and the shuttle exploded 73 secods after liftoff.\n",
    "</div>"
   ]
  },
  {
   "cell_type": "markdown",
   "metadata": {},
   "source": [
    "### To answer (or discover) questions\n",
    "\n",
    "<hr style=\"border: 1px solid#0B0B0B;\" />\n",
    "<div align=\"center\">\n",
    "    <img src= \"/data/story_images/galileo_phases_moon.png\" align=\"center\" width=\"22%\">    \n",
    "    <img src= \"/data/story_images/moon_phases_image.jpg\" align=\"center\" width=\"20%\"><br>\n",
    "    \n",
    "    Galileo's handrawings (left) of the phases of the moom [1616] \n",
    "    http://galileo.rice.edu/sci/observations/moon.html\n",
    "</div>"
   ]
  },
  {
   "cell_type": "markdown",
   "metadata": {},
   "source": [
    "### To make decisions\n",
    "\n",
    "<hr style=\"border: 1px solid#0B0B0B;\" />\n",
    "<div align=\"center\">\n",
    "    <img src= \"/data/story_images/deaths_from_cholera.png\" align=\"center\" height=\"100%\">    \n",
    "</div>"
   ]
  },
  {
   "cell_type": "markdown",
   "metadata": {},
   "source": [
    "### To make decisions\n",
    "\n",
    "<hr style=\"border: 1px solid#0B0B0B;\" />\n",
    "<div align=\"center\">\n",
    "    <img src= \"/data/story_images/areal_map_cholera.png\" align=\"center\" width=\"40%\">    \n",
    "    \n",
    "    John Snow (1854) plotted position of each cholera case on a map.\n",
    "</div>"
   ]
  },
  {
   "cell_type": "markdown",
   "metadata": {},
   "source": [
    "### To make decisions\n",
    "\n",
    "<hr style=\"border: 1px solid#0B0B0B;\" />\n",
    "<br>\n",
    "<div align=\"center\">\n",
    "    <img src= \"/data/story_images/problem_identified_cholera.png\" align=\"center\" width=\"40%\" margin-right:\"40px\"> \n",
    "    <img src= \"/data/story_images/intervention_consequences_cholera.png\" align=\"center\" width=\"26%\" margin-left:\"40px\">  \n",
    "</div>"
   ]
  },
  {
   "cell_type": "markdown",
   "metadata": {},
   "source": [
    "### To tell a story\n",
    "\n",
    "<hr style=\"border: 1px solid#0B0B0B;\" />\n",
    "<br>\n",
    "<div align=\"center\">\n",
    "    <img src= \"/data/story_images/sagan_smart_ape.png\" align=\"center\" height=\"100%\"> \n",
    "    <img src= \"/data/story_images/cleveland_smart_ape.png\" align=\"center\" height=\"100%\"> \n",
    "</div>"
   ]
  },
  {
   "cell_type": "markdown",
   "metadata": {},
   "source": [
    "### To inspire\n",
    "\n",
    "<hr style=\"border: 1px solid#0B0B0B;\" />\n",
    "<br>\n",
    "<div align=\"center\">\n",
    "    <img src= \"/data/story_images/double_helix.jpg\" align=\"center\"> \n",
    "</div>"
   ]
  },
  {
   "cell_type": "markdown",
   "metadata": {},
   "source": [
    "### To inspire... and...\n",
    "\n",
    "<hr style=\"border: 1px solid#0B0B0B;\" />\n",
    "<div align=\"center\">\n",
    "    <img src= \"/data/story_images/annotated_double_helix.jpeg\" align=\"center\" width=\"60%\">  \n",
    "    \n",
    "    http://thedishonscience.stanford.edu/posts/discoveries-rosalind/\n",
    "</div>"
   ]
  },
  {
   "cell_type": "markdown",
   "metadata": {},
   "source": [
    "<!--Navigate back to table of contents-->\n",
    "<div alig=\"right\" style=\"text-align: right\">\n",
    "    <span>\n",
    "        <a style=\"color:#FFFFFF; background-color:#0D0D0D; border:1px solid #FFFFFF; border-color:#FFFFFF;border-radius:5px;border-width:0px;display:inline-block;font-family:arial,helvetica,sans-serif;font-size:10px;letter-spacing:0px;line-height:10px;padding:10px 20px;text-align:center;text-decoration:none; align:center\" href=\"#Part_table_contents\" name=\"Table of Contents\"  id=\"Part_table_contents\"> \n",
    "            Table of Contents \n",
    "        </a>\n",
    "    </span>\n",
    "</div>\n",
    "<!-------------------------------------->"
   ]
  },
  {
   "cell_type": "markdown",
   "metadata": {},
   "source": [
    "<a id='Part_1_2'></a>\n",
    "\n",
    "<hr style=\"border: 4px solid#0B0B0B;\" />\n",
    "\n",
    "### **1.2 - Automating the design of graphical representation of relational data.** "
   ]
  },
  {
   "cell_type": "markdown",
   "metadata": {},
   "source": [
    "#### Since we will be building plotting objects that aim to represent the principles of data visualization, we now take some time to understand how plotting is computationally architected."
   ]
  },
  {
   "cell_type": "markdown",
   "metadata": {},
   "source": [
    "### Understanding Plots\n",
    "\n",
    "<hr style=\"border: 1px solid#0B0B0B;\" />\n",
    "<div align=\"center\">\n",
    "    <img src= \"/data/story_images/the_big_picture.png\" align=\"center\" height=\"100%\"> \n",
    "</div>\n"
   ]
  },
  {
   "cell_type": "markdown",
   "metadata": {},
   "source": [
    "### Understanding Plots: Data\n",
    "\n",
    "<hr style=\"border: 1px solid#0B0B0B;\" />\n",
    "<div align=\"center\">\n",
    "    <img src= \"/data/story_images/data_models_vs_conceptual_model.png\" align=\"center\" height=\"100%\"> \n",
    "</div>"
   ]
  },
  {
   "cell_type": "markdown",
   "metadata": {},
   "source": [
    "### Understanding Plots: Data\n",
    "\n",
    "<hr style=\"border: 1px solid#0B0B0B;\" />\n",
    "<div align=\"center\">\n",
    "    <img src= \"/data/story_images/data_type_taxonomy.png\" align=\"center\" height=\"100%\"> \n",
    "    \n",
    "    This knowledge will come in handy when debugging or looking for reference materials.\n",
    "    Check out \"Design for Information\" in the resources folder.\n",
    "</div>"
   ]
  },
  {
   "cell_type": "markdown",
   "metadata": {},
   "source": [
    "### Understanding Plots: Data\n",
    "\n",
    "<hr style=\"border: 1px solid#0B0B0B;\" />\n",
    "<div align=\"center\">\n",
    "    <img src= \"/data/story_images/data_variable_types.png\" align=\"center\" height=\"100%\"> \n",
    "</div>"
   ]
  },
  {
   "cell_type": "markdown",
   "metadata": {},
   "source": [
    "### Understanding Plots: Data --> Physical and Abstract\n",
    "\n",
    "<hr style=\"border: 1px solid#0B0B0B;\" />\n",
    "\n",
    "<table align=\"center\" style=\"width:70%; font-size:22px; font-family:FreeMono; font-weight: 100; font-stretch:ultra-condensed; line-height: 1.2; color:#2A2C2B\">\n",
    "  <tr>\n",
    "    <th><strong>ELEMENTAL<br>DATA</strong></th>\n",
    "    <th><strong>DERIVED<br>ABSTRACT DATA</strong></th>\n",
    "    <th><strong>NON-DERIVED<br>ABSTRACT DATA</strong></th>\n",
    "  </tr>\n",
    "  <tr>\n",
    "      <th style=\"font-size:16px; font-family:FreeMono; font-weight: 100; font-stretch:ultra-condensed; line-height: 1.2; color:#2A2C2B; vertical-align:top\">  \n",
    "          <div align=\"center\" style=\"vertical-align:top\">\n",
    "            <img src= \"data/story_images/2_a_physical_data_types.png\" align=\"Center\" width=\"120%\" vertical-align=\"top\">\n",
    "          </div>  \n",
    "      </th>\n",
    "      <th style=\"font-size:16px; font-family:FreeMono; font-weight: 100; font-stretch:ultra-condensed; line-height: 1.2; color:#2A2C2B; vertical-align:top\">\n",
    "          <div align=\"center\">\n",
    "            <img src= \"data/story_images/2_b_derived_(abstract)_data_types.png\" align=\"Center\" width=\"120%\" vertical-align=\"top\">\n",
    "          </div>\n",
    "      </th>\n",
    "      <th style=\"font-size:16px; font-family:FreeMono; font-weight: 100; font-stretch:ultra-condensed; line-height: 1.2; color:#2A2C2B; vertical-align:top\">  \n",
    "          <div align=\"center\" style=\"vertical-align:top\">\n",
    "            <img src= \"data/story_images/2_c_nonderived_(abstract)_data_types.png\" align=\"Center\" width=\"80%\" vertical-align=\"top\">\n",
    "          </div>  \n",
    "      </th>\n",
    "  </tr>\n",
    "</table>\n",
    "<br>\n",
    "\n",
    "<div align=\"center\" style=\"width:100%\">\n",
    "  <strong>Note:</strong> \n",
    "      data and data scaling is an important topic that we do not have the time to address here. \n",
    "      See Chapter 6 in \"The Grammar of Graphics\" for additional information.\n",
    "</div>\n"
   ]
  },
  {
   "cell_type": "markdown",
   "metadata": {},
   "source": [
    "### Understanding Plots: Big Picture\n",
    "\n",
    "<hr style=\"border: 1px solid#0B0B0B;\" />\n",
    "<div align=\"center\">\n",
    "    <img src= \"/data/story_images/data_nominal_ordinal_quantitative.png\" align=\"center\" height=\"100%\"> \n",
    "</div>"
   ]
  },
  {
   "cell_type": "markdown",
   "metadata": {},
   "source": [
    "### Understanding Plots: Data and Mapping / Processing\n",
    "\n",
    "<hr style=\"border: 1px solid#0B0B0B;\" />\n",
    "<div align=\"center\">\n",
    "    <img src= \"/data/story_images/the_big_picture.png\" align=\"center\" height=\"80%\"> \n",
    "   \n",
    "</div>"
   ]
  },
  {
   "cell_type": "markdown",
   "metadata": {},
   "source": [
    "### Understanding Plots: Mapping and Processing (Statistical Methods)\n",
    "\n",
    "<hr style=\"border: 1px solid#0B0B0B;\" />\n",
    "\n",
    "<table align=\"center\" style=\"width:70%; font-size:22px; font-family:FreeMono; font-weight: 100; font-stretch:ultra-condensed; line-height: 1.2; color:#2A2C2B\">\n",
    "  <tr>\n",
    "    <th><strong>STATISTICAL METHODS<br>(DERIVED DATA)</strong></th>\n",
    "    <th><strong>STATISTICAL METHODS<br>BY DIMENSIONALITY</strong></th>\n",
    "  </tr>\n",
    "  <tr>\n",
    "      <th style=\"font-size:16px; font-family:FreeMono; font-weight: 100; font-stretch:ultra-condensed; line-height: 1.2; color:#2A2C2B; vertical-align:top\">  \n",
    "          <div align=\"center\" style=\"vertical-align:top\">\n",
    "            <img src= \"data/story_images/3_a_abstract_methods_statistics.png\" align=\"Center\" width=\"70%\" vertical-align=\"top\">\n",
    "          </div>  \n",
    "      </th>\n",
    "      <th style=\"font-size:16px; font-family:FreeMono; font-weight: 100; font-stretch:ultra-condensed; line-height: 1.2; color:#2A2C2B; vertical-align:top\">\n",
    "          <div align=\"center\">\n",
    "            <img src= \"data/story_images/3_b_abstract_methods_statistics_by_dimensionality.png\" align=\"Center\" width=\"60%\" vertical-align=\"top\">\n",
    "          </div>\n",
    "      </th>\n",
    "  </tr>    \n",
    "</table>\n",
    "<div align=\"center\" style=\"width:100%\">\n",
    "See Chapter 7 in \"The Grammar of Graphics\" for additional information.\n",
    "</div>"
   ]
  },
  {
   "cell_type": "markdown",
   "metadata": {},
   "source": [
    "### Understanding Plots: Mapping and Processing\n",
    "\n",
    "\n",
    "<hr style=\"border: 1px solid#0B0B0B;\" />\n",
    "<div align=\"center\">\n",
    "    <img src= \"/data/story_images/image_marks_&_visual_variables.png\" align=\"center\" height=\"100%\"> \n",
    "</div>"
   ]
  },
  {
   "cell_type": "markdown",
   "metadata": {},
   "source": [
    "### Understanding Plots: Mapping and Processing (Geometric Collisions)\n",
    "\n",
    "<hr style=\"border: 1px solid#0B0B0B;\" />\n",
    "<table align=\"center\" style=\"width:70%; font-size:22px; font-family:FreeMono; font-weight: 100; font-stretch:ultra-condensed; line-height: 1.2; color:#2A2C2B\">\n",
    "  <tr>\n",
    "    <th><strong>GEOMETRIC GRAPHS</strong></th>\n",
    "    <th><strong>COLLISION MODIFIERS</strong></th>\n",
    "    <th><strong>GEOMETRIC GRAPHS<br>BY DIMENSIONALITY</strong></th>\n",
    "  </tr>\n",
    "  <tr>\n",
    "      <th style=\"font-size:16px; font-family:FreeMono; font-weight: 100; font-stretch:ultra-condensed; line-height: 1.2; color:#2A2C2B; vertical-align:top\">  \n",
    "          <div align=\"center\" style=\"vertical-align:top\">\n",
    "            <img src= \"data/story_images/4_a_geometric_methods.png\" align=\"Center\" width=\"70%\" vertical-align=\"top\">\n",
    "          </div>  \n",
    "      </th>\n",
    "      <th style=\"font-size:16px; font-family:FreeMono; font-weight: 100; font-stretch:ultra-condensed; line-height: 1.2; color:#2A2C2B; vertical-align:top\">\n",
    "          <div align=\"center\">\n",
    "            <img src= \"data/story_images/4_b_geometric_collisioin_modifiers.png\" align=\"Center\" width=\"25%\" vertical-align=\"top\">\n",
    "          </div>\n",
    "      </th>\n",
    "      <th style=\"font-size:16px; font-family:FreeMono; font-weight: 100; font-stretch:ultra-condensed; line-height: 1.2; color:#2A2C2B; vertical-align:top\">  \n",
    "          <div align=\"center\" style=\"vertical-align:top\">\n",
    "            <img src= \"data/story_images/4_c_geometric_methods_statistics_by_dimensionality.png\" align=\"Center\" width=\"80%\" vertical-align=\"top\">\n",
    "          </div>  \n",
    "      </th>\n",
    "  </tr>\n",
    "</table>\n",
    "<div align=\"center\" style=\"width:100%\">\n",
    "See Chapter 8 in \"The Grammar of Graphics\" for additional information.\n",
    "</div>"
   ]
  },
  {
   "cell_type": "markdown",
   "metadata": {},
   "source": [
    "### Understanding Plots: Mapping and Processing (Transformations)\n",
    "\n",
    "<hr style=\"border: 1px solid#0B0B0B;\" />\n",
    "<div align=\"center\">\n",
    "    <img src= \"/data/story_images/5_a_hierarchy of planar transformations.png\" align=\"center\" width=\"30%\"> \n",
    "</div>\n",
    "<div align=\"center\" style=\"width:100%\">\n",
    "See Chapter 9 in \"The Grammar of Graphics\" for additional information.\n",
    "</div>"
   ]
  },
  {
   "cell_type": "markdown",
   "metadata": {},
   "source": [
    "<div style=\"text-align:left; padding:0px 50px; font-family:FreeMono; font-weight:100; font-stretch:ultra-condensed;font-size:30px;color:#4BA6C9\">\n",
    "    Elemente der Psychophysik (Psychophysics)\n",
    "</div>\n",
    "<div style=\"text-align:left; padding:20px 50px; font-family:FreeMono; font-weight:100; font-stretch:ultra-condensed;font-size:20px;color:#4BA6C9\">\n",
    "    The study of the relationship between the magnitude of a physical stimuls and the intencity of a perception.\n",
    "</div>\n",
    "<br>\n",
    "<div align=\"left\" style=\"width:100%\">\n",
    "  <strong>Note:</strong> \n",
    "      Perception and visual processing, as they relate to visualization, are extremeley interesting areas to consider.  The topic of perception is outside of the scope of this notebook.  \n",
    "      <br>For a good crash course see --> https://classes.engineering.wustl.edu/cse557/fall2016/slides/l9-perception.pdf \n",
    "</div>\n",
    "\n"
   ]
  },
  {
   "cell_type": "markdown",
   "metadata": {},
   "source": [
    "### Understanding Plots: Image Aesthetics\n",
    "\n",
    "<hr style=\"border: 1px solid#0B0B0B;\" />\n",
    "<div align=\"center\">\n",
    "    <img src= \"/data/story_images/image_organization_levels.png\" align=\"center\" height=\"100%\"> \n",
    "</div>"
   ]
  },
  {
   "cell_type": "markdown",
   "metadata": {},
   "source": [
    "### Understanding Plots: Image Aesthetics\n",
    "\n",
    "<hr style=\"border: 1px solid#0B0B0B;\" />\n",
    "<div align=\"center\">\n",
    "    <img src= \"/data/story_images/effectiveness_of_encoding.png\" align=\"center\" height=\"100%\"> \n",
    "    <br><br><strong>Facets:</strong> A multiplicity (Collection) of graphics and other structures.\n",
    "    <br><strong>Guides:</strong> Graphical element that provides context to the graphic.\n",
    "</div>"
   ]
  },
  {
   "cell_type": "markdown",
   "metadata": {},
   "source": [
    "### Understanding Plots: Image Aesthetics\n",
    "\n",
    "<hr style=\"border: 1px solid#0B0B0B;\" />\n",
    "<table align=\"center\" style=\"width:70%; font-size:22px; font-family:FreeMono; font-weight: 100; font-stretch:ultra-condensed; line-height: 1.2; color:#2A2C2B\">\n",
    "  <tr>\n",
    "    <th><strong>AESTHETIC ATTRIBUTES</strong></th>\n",
    "    <th><strong>AESTHETIC ATTRIBUTES<br>BY GEOMETRY</strong></th>\n",
    "  </tr>\n",
    "  <tr>\n",
    "      <th style=\"font-size:16px; font-family:FreeMono; font-weight: 100; font-stretch:ultra-condensed; line-height: 1.2; color:#2A2C2B; vertical-align:top\">  \n",
    "          <div align=\"center\" style=\"vertical-align:top\">\n",
    "            <img src= \"data/story_images/6_a_aestheric_attributes.png\" align=\"Center\" width=\"80%\" vertical-align=\"top\">\n",
    "          </div>  \n",
    "      </th>\n",
    "      <th style=\"font-size:16px; font-family:FreeMono; font-weight: 100; font-stretch:ultra-condensed; line-height: 1.2; color:#2A2C2B; vertical-align:top\">\n",
    "          <div align=\"center\">\n",
    "            <img src= \"data/story_images/6_b_aesthetic_attributes_by_geometry.png\" align=\"Center\" width=\"80%\" vertical-align=\"top\">\n",
    "          </div>\n",
    "      </th>\n",
    "  </tr>    \n",
    "</table>\n",
    "<div align=\"center\" style=\"width:100%\">\n",
    "See Chapter 9 in \"The Grammar of Graphics\" for additional information.\n",
    "</div>"
   ]
  },
  {
   "cell_type": "markdown",
   "metadata": {},
   "source": [
    "<div style=\"text-align:left; padding:0px 50px; font-family:FreeMono; font-weight:100; font-stretch:ultra-condensed;font-size:30px;color:#3498db\">\n",
    "    A visualization is more effective than another visualization if the information conveyed by one visualization is more readily \n",
    "    <strong>perceived</strong> than the information in the other visualization.\n",
    "</div>\n",
    "<div style=\"text-align:left; padding:20px 50px; font-family:FreeMono; font-weight:100; font-stretch:ultra-condensed;font-size:20px;color:#3498db\">\n",
    "    - Jock Mackinlay\n",
    "</div>"
   ]
  },
  {
   "cell_type": "markdown",
   "metadata": {},
   "source": [
    "## Oh Boy!\n",
    "\n",
    "<hr style=\"border: 1px solid#0B0B0B;\" />\n",
    "\n",
    "<strong>To Do:</strong> revisit that one plot with the single list parameter\n",
    "<br>\n",
    "<strong>Note:</strong> we have an opportunity to synthesize"
   ]
  },
  {
   "cell_type": "code",
   "execution_count": 2,
   "metadata": {},
   "outputs": [
    {
     "data": {
      "text/plain": [
       "'\\n    ### state-based interface plot ###\\n    In matplotlib.pyplot various states are preserved across function calls, \\n    so that it keeps track of things like the current figure and plotting area, \\n    and the plotting functions are directed to the current axes\\n'"
      ]
     },
     "execution_count": 2,
     "metadata": {},
     "output_type": "execute_result"
    }
   ],
   "source": [
    "import numpy as np\n",
    "import matplotlib.pyplot as plt\n",
    "\n",
    "\n",
    "\n",
    "\"\"\"\n",
    "    ### state-based interface plot ###\n",
    "    In matplotlib.pyplot various states are preserved across function calls, \n",
    "    so that it keeps track of things like the current figure and plotting area, \n",
    "    and the plotting functions are directed to the current axes\n",
    "\"\"\"\n",
    "\n",
    "# initiate figure and pass y-variable-list\n",
    "#plt.plot([1,2,3])                          # single list (Ordered, Interval, Ratio)\n",
    "\n",
    "# list is treated like an unnamed feature, i.e. a column of data\n",
    "#plt.plot([\"female\",\"male\",\"not-disclose\"]) # single list (N)\n",
    "\n",
    "# order matters! \n",
    "#plt.plot([1,2,3], [\"female\",\"male\",\"not-disclose\"])           # single list (O, Q)\n",
    "#plt.plot([\"female\",\"male\",\"not-disclose\"],[1, 2, 3])          # single list (Quantitative)\n",
    "\n",
    "# we call the current state of the figure from memory \n",
    "# and modify it's axes \n",
    "\n",
    "#plt.ylabel('Interval or Ratio')\n",
    "#plt.xlabel('Nominal')\n",
    "\n",
    "#plt.show()"
   ]
  },
  {
   "cell_type": "markdown",
   "metadata": {},
   "source": [
    "___\n",
    "\n",
    "<div align=\"center\">\n",
    "    <img src= \"/data/story_images/Smith_Data_Levels_Numerical.png\" align=\"center\" width=\"30%\"> \n",
    "</div>\n",
    "\n",
    "___"
   ]
  },
  {
   "cell_type": "markdown",
   "metadata": {},
   "source": [
    "<!--Navigate back to table of contents-->\n",
    "<div alig=\"right\" style=\"text-align: right\">\n",
    "    <span>\n",
    "        <a style=\"color:#FFFFFF; background-color:#0D0D0D; border:1px solid #FFFFFF; border-color:#FFFFFF;border-radius:5px;border-width:0px;display:inline-block;font-family:arial,helvetica,sans-serif;font-size:10px;letter-spacing:0px;line-height:10px;padding:10px 20px;text-align:center;text-decoration:none; align:center\" href=\"#Part_table_contents\" name=\"Table of Contents\"  id=\"Part_table_contents\"> \n",
    "            Table of Contents \n",
    "        </a>\n",
    "    </span>\n",
    "</div>\n",
    "<!-------------------------------------->\n"
   ]
  },
  {
   "cell_type": "markdown",
   "metadata": {},
   "source": [
    "<a id='Part_1_3'></a>\n",
    "\n",
    "<hr style=\"border: 4px solid#0B0B0B;\" />\n",
    "\n",
    "### **1.3 - Principles of Data Visualization** "
   ]
  },
  {
   "cell_type": "markdown",
   "metadata": {},
   "source": [
    "<div align=\"left\">\n",
    "    <span style=\"font-size:18px; color: #222222\">The following 5 rules are generalizations of the principles of graphical integrity covered in Edward Tufte's \"The Visual Display of Quantitative Information\"</span><br>    \n",
    "    <span style=\"font-size:16px; color: #222222\"><br> &nbsp;  &nbsp; 1. Graphics Reveal Data (Delight Users)</span><br>\n",
    "    <span style=\"font-size:16px; color: #222222\"> &nbsp;  &nbsp; 2. To Clarify, Add Detail (Different Means Important)</span><br>\n",
    "    <span style=\"font-size:16px; color: #222222\"> &nbsp;  &nbsp; 3. Small Multiples Invite Comparisons (Show Change Over Classes/Time)</span><br>\n",
    "    <span style=\"font-size:16px; color: #222222\"> &nbsp;  &nbsp; 4. \"Smallest Effective Difference\" (Make Distinctions as Subtle as Possible, but Still Clear/Effective)</span><br>\n",
    "    <span style=\"font-size:16px; color: #222222\"> &nbsp;  &nbsp; 5. Above All Else, Show The Data (Be Honest)<br>\n",
    "      <p  style=\"font-size:12px\";> &nbsp;  &nbsp; &nbsp;  &nbsp; &nbsp;  &nbsp; https://classes.engineering.wustl.edu/cse557/fall2016/slides/l2-design.pdf<p>\n",
    "    </span><br>\n",
    "</div>"
   ]
  },
  {
   "cell_type": "markdown",
   "metadata": {},
   "source": [
    "### 1. Graphics Reveal Data (Delight Users)\n",
    "\n",
    "<hr style=\"border: 1px solid#0B0B0B;\" />\n",
    "<div align=\"center\">\n",
    "    <img src= \"/data/story_images/1_Graphics_Reveal_Data.png\" align=\"center\" width=\"50%\"> \n",
    "</div>"
   ]
  },
  {
   "cell_type": "markdown",
   "metadata": {},
   "source": [
    "### 2. To Clarify, Add Detail (Different Means Important)\n",
    "\n",
    "<hr style=\"border: 1px solid#0B0B0B;\" />\n",
    "<div align=\"center\">\n",
    "    <img src= \"/data/story_images/2_To_Clarify_Add_Detail.png\" align=\"center\" width=\"50%\"> \n",
    "</div>"
   ]
  },
  {
   "cell_type": "markdown",
   "metadata": {},
   "source": [
    "### 3. Small Multiples Invite Comparisons (Show change over classes/time)\n",
    "\n",
    "<hr style=\"border: 1px solid#0B0B0B;\" />\n",
    "<div align=\"center\">\n",
    "    <img src= \"/data/story_images/3_small_multiples_invite_detail.png\" align=\"center\" width=\"50%\"> \n",
    "</div>"
   ]
  },
  {
   "cell_type": "markdown",
   "metadata": {},
   "source": [
    "###  4. \"Smallest Effective Difference\" (Make distinctions as subtle as possible, but still clear/effective)\n",
    "\n",
    "<hr style=\"border: 1px solid#0B0B0B;\" />\n",
    "<div align=\"center\">\n",
    "    <img src= \"/data/story_images/4_smallest_effective_difference.png\" align=\"center\" width=\"60%\"> \n",
    "</div>"
   ]
  },
  {
   "cell_type": "markdown",
   "metadata": {},
   "source": [
    "###  5. Above All Else, Show The Data (Be honest)\n",
    "\n",
    "<hr style=\"border: 1px solid#0B0B0B;\" />\n",
    "<div align=\"center\">\n",
    "    <img src= \"/data/story_images/5_Above_All_Else_Show_The_Data.png\" align=\"center\" width=\"60%\"> \n",
    "    <br>\n",
    "    <span style=\"font-size:16px; color: #222222\"><br> &nbsp;  &nbsp;  &nbsp; <strong> LF >> 1</strong> -- the size of graphic is greater than size of data: leads to exaggeration of data.</span>\n",
    "    <span style=\"font-size:16px; color: #222222\"><br> &nbsp;  &nbsp;<strong>LF << 1 </strong> -- the size of data is greater than size of graphic: leads to concealing of data.</span><br>\n",
    "</div>\n",
    "\n",
    "___"
   ]
  },
  {
   "cell_type": "markdown",
   "metadata": {},
   "source": [
    "\n",
    "\n",
    "<table align=\"center\" style=\"width:70%; font-size:22px; font-family:FreeMono; font-weight: 100; font-stretch:ultra-condensed; line-height: 1.2; color:#2A2C2B\">\n",
    "  <tr>\n",
    "    <th><strong>LF = 9.4</strong></th>\n",
    "    <th><strong>DESIGN VARIATION</strong></th>\n",
    "    <th><strong>DOUBLE ENCODING</strong></th>\n",
    "  </tr>\n",
    "  <tr>\n",
    "      <th style=\"font-size:16px; font-family:FreeMono; font-weight: 100; font-stretch:ultra-condensed; line-height: 1.2; color:#2A2C2B; vertical-align:top\">  \n",
    "          <div align=\"center\" style=\"vertical-align:top\">\n",
    "            <img src= \"data/story_images/1_a_barrel.png\" align=\"Center\" width=\"80%\" vertical-align=\"top\">\n",
    "          </div>  \n",
    "      </th>\n",
    "      <th style=\"font-size:16px; font-family:FreeMono; font-weight: 100; font-stretch:ultra-condensed; line-height: 1.2; color:#2A2C2B; vertical-align:top\">\n",
    "          <div align=\"center\">\n",
    "            <img src= \"data/story_images/1_b_design_variation.png\" align=\"Center\" width=\"100%\" vertical-align=\"top\">\n",
    "          </div>\n",
    "      </th>\n",
    "      <th style=\"font-size:16px; font-family:FreeMono; font-weight: 100; font-stretch:ultra-condensed; line-height: 1.2; color:#2A2C2B; vertical-align:top\">  \n",
    "          <div align=\"center\" style=\"vertical-align:top\">\n",
    "            <img src= \"data/story_images/1_c_double_encoding.png\" align=\"Center\" width=\"77%\" vertical-align=\"top\">\n",
    "          </div>  \n",
    "      </th>\n",
    "  </tr>    \n",
    "</table>"
   ]
  },
  {
   "cell_type": "markdown",
   "metadata": {},
   "source": [
    "<!--Navigate back to table of contents-->\n",
    "<div alig=\"right\" style=\"text-align: right\">\n",
    "    <span>\n",
    "        <a style=\"color:#FFFFFF; background-color:#0D0D0D; border:1px solid #FFFFFF; border-color:#FFFFFF;border-radius:5px;border-width:0px;display:inline-block;font-family:arial,helvetica,sans-serif;font-size:10px;letter-spacing:0px;line-height:10px;padding:10px 20px;text-align:center;text-decoration:none; align:center\" href=\"#Part_table_contents\" name=\"Table of Contents\"  id=\"Part_table_contents\"> \n",
    "            Table of Contents \n",
    "        </a>\n",
    "    </span>\n",
    "</div>\n",
    "<!-------------------------------------->\n"
   ]
  },
  {
   "cell_type": "markdown",
   "metadata": {},
   "source": [
    "<a id='Part_1_4'></a>\n",
    "\n",
    "<hr style=\"border: 4px solid#0B0B0B;\" />\n",
    "\n",
    "### **1.4 - The Power of Visualization, Some Examples**"
   ]
  },
  {
   "cell_type": "code",
   "execution_count": 3,
   "metadata": {},
   "outputs": [
    {
     "data": {
      "text/html": [
       "\n",
       "        <h3>Example 1: How Graphics Reveal Data</h3> \n",
       "        <hr style=\"border: 1px solid#0B0B0B;\" />\n",
       "            <div style=\"text-align: center\">\n",
       "                <iframe width=\"50%\" height=\"500px\" \n",
       "                src=\"https://www.youtube.com/embed/uUrO0g-xDBA?controls=1&start=2&autoplay=0&vq=hd1080\" \n",
       "                frameborder=\"0\" allow=\"accelerometer; autoplay; encrypted-media; gyroscope; picture-in-picture\" allowfullscreen>\n",
       "                </iframe>\n",
       "            </div>\n",
       "    "
      ],
      "text/plain": [
       "<IPython.core.display.HTML object>"
      ]
     },
     "execution_count": 3,
     "metadata": {},
     "output_type": "execute_result"
    }
   ],
   "source": [
    "from IPython.display import HTML\n",
    "\n",
    "HTML(\"\"\"\n",
    "        <h3>Example 1: How Graphics Reveal Data</h3> \n",
    "        <hr style=\"border: 1px solid#0B0B0B;\" />\n",
    "            <div style=\"text-align: center\">\n",
    "                <iframe width=\"50%\" height=\"500px\" \n",
    "                src=\"https://www.youtube.com/embed/uUrO0g-xDBA?controls=1&start=2&autoplay=0&vq=hd1080\" \n",
    "                frameborder=\"0\" allow=\"accelerometer; autoplay; encrypted-media; gyroscope; picture-in-picture\" allowfullscreen>\n",
    "                </iframe>\n",
    "            </div>\n",
    "    \"\"\")"
   ]
  },
  {
   "cell_type": "code",
   "execution_count": 4,
   "metadata": {},
   "outputs": [
    {
     "data": {
      "text/html": [
       "\n",
       "        <h3>Example 2: Value in Visualization</h3> \n",
       "        <hr style=\"border: 1px solid#0B0B0B;\" />\n",
       "            <div style=\"text-align: center\">\n",
       "                <iframe width=\"50%\" height=\"500px\" \n",
       "                src=\"https://www.youtube.com/embed/jbkSRLYSojo?controls=1&start=2&autoplay=0&vq=hd1080\" \n",
       "                frameborder=\"0\" allow=\"accelerometer; autoplay; encrypted-media; gyroscope; picture-in-picture\" allowfullscreen>\n",
       "                </iframe>\n",
       "            </div>\n",
       "    "
      ],
      "text/plain": [
       "<IPython.core.display.HTML object>"
      ]
     },
     "execution_count": 4,
     "metadata": {},
     "output_type": "execute_result"
    }
   ],
   "source": [
    "from IPython.display import HTML\n",
    "\n",
    "HTML(\"\"\"\n",
    "        <h3>Example 2: Value in Visualization</h3> \n",
    "        <hr style=\"border: 1px solid#0B0B0B;\" />\n",
    "            <div style=\"text-align: center\">\n",
    "                <iframe width=\"50%\" height=\"500px\" \n",
    "                src=\"https://www.youtube.com/embed/jbkSRLYSojo?controls=1&start=2&autoplay=0&vq=hd1080\" \n",
    "                frameborder=\"0\" allow=\"accelerometer; autoplay; encrypted-media; gyroscope; picture-in-picture\" allowfullscreen>\n",
    "                </iframe>\n",
    "            </div>\n",
    "    \"\"\")"
   ]
  },
  {
   "cell_type": "code",
   "execution_count": 5,
   "metadata": {},
   "outputs": [
    {
     "data": {
      "text/html": [
       "\n",
       "        <h3>Example 3: Evaluating Veracity in Visualization</h3> \n",
       "        <hr style=\"border: 1px solid#0B0B0B;\" />\n",
       "            <div style=\"text-align: center\">\n",
       "                <iframe width=\"50%\" height=\"500px\" \n",
       "                src=\"https://www.youtube.com/embed/14VYnFhBKcY?controls=1&start=2&autoplay=0&vq=hd1080\" \n",
       "                frameborder=\"0\" allow=\"accelerometer; autoplay; encrypted-media; gyroscope; picture-in-picture\" allowfullscreen>\n",
       "                </iframe>\n",
       "            </div>\n",
       "    "
      ],
      "text/plain": [
       "<IPython.core.display.HTML object>"
      ]
     },
     "execution_count": 5,
     "metadata": {},
     "output_type": "execute_result"
    }
   ],
   "source": [
    "from IPython.display import HTML\n",
    "\n",
    "HTML(\"\"\"\n",
    "        <h3>Example 3: Evaluating Veracity in Visualization</h3> \n",
    "        <hr style=\"border: 1px solid#0B0B0B;\" />\n",
    "            <div style=\"text-align: center\">\n",
    "                <iframe width=\"50%\" height=\"500px\" \n",
    "                src=\"https://www.youtube.com/embed/14VYnFhBKcY?controls=1&start=2&autoplay=0&vq=hd1080\" \n",
    "                frameborder=\"0\" allow=\"accelerometer; autoplay; encrypted-media; gyroscope; picture-in-picture\" allowfullscreen>\n",
    "                </iframe>\n",
    "            </div>\n",
    "    \"\"\")"
   ]
  },
  {
   "cell_type": "markdown",
   "metadata": {},
   "source": [
    "<!--Navigate back to table of contents-->\n",
    "<div alig=\"right\" style=\"text-align: right\">\n",
    "    <span>\n",
    "        <a style=\"color:#FFFFFF; background-color:#0D0D0D; border:1px solid #FFFFFF; border-color:#FFFFFF;border-radius:5px;border-width:0px;display:inline-block;font-family:arial,helvetica,sans-serif;font-size:10px;letter-spacing:0px;line-height:10px;padding:10px 20px;text-align:center;text-decoration:none; align:center\" href=\"#Part_table_contents\" name=\"Table of Contents\"  id=\"Part_table_contents\"> \n",
    "            Table of Contents \n",
    "        </a>\n",
    "    </span>\n",
    "</div>\n",
    "<!-------------------------------------->"
   ]
  },
  {
   "cell_type": "markdown",
   "metadata": {},
   "source": [
    "<hr style=\"border: 4px solid#0B0B0B;\" />\n",
    "\n",
    "### Synthesize I: Pen and Paper Excercise\n",
    "\n",
    "\n",
    "<div align=\"center\">\n",
    "    <img src= \"/data/story_images/improve_the_plot.png\" align=\"center\" height=\"100%\"> \n",
    "    \n",
    "    #SWDchallenge -- September 2018\n",
    "</div>\n",
    "\n",
    "\n"
   ]
  },
  {
   "cell_type": "code",
   "execution_count": 6,
   "metadata": {},
   "outputs": [
    {
     "data": {
      "text/html": [
       "<div style=\"text-align: center\"><iframe width=\"70%\" height=\"500\" src=\"https://www.storytellingwithdata.com/blog/2018/9/24/sept-swdchallenge-recap-makeover-edition\" frameborder=\"0\" allow=\"accelerometer; autoplay; encrypted-media; gyroscope; picture-in-picture\" allowfullscreen></iframe></div>"
      ],
      "text/plain": [
       "<IPython.core.display.HTML object>"
      ]
     },
     "execution_count": 6,
     "metadata": {},
     "output_type": "execute_result"
    }
   ],
   "source": [
    "### SEABORN GALLERY ###\n",
    "HTML('<div style=\"text-align: center\"><iframe width=\"70%\" height=\"500\" src=\"https://www.storytellingwithdata.com/blog/2018/9/24/sept-swdchallenge-recap-makeover-edition\" frameborder=\"0\" allow=\"accelerometer; autoplay; encrypted-media; gyroscope; picture-in-picture\" allowfullscreen></iframe></div>')\n"
   ]
  },
  {
   "cell_type": "markdown",
   "metadata": {},
   "source": [
    "<hr style=\"border: 2px solid#0B0B0B;\" />\n",
    "\n",
    "### Synthesize II: Good; Bad --> Better\n",
    "\n",
    "\n",
    "<table align=\"center\" style=\"width:70%; font-size:22px; font-family:FreeMono; font-weight: 100; font-stretch:ultra-condensed; line-height: 1.2; color:#2A2C2B\">\n",
    "  <tr>\n",
    "    <th><strong>GOOD</strong></th>\n",
    "    <th><strong>BAD</strong></th>\n",
    "    <th><strong>BETTER</strong></th>\n",
    "  </tr>\n",
    "  <tr>\n",
    "      <th style=\"font-size:16px; font-family:FreeMono; font-weight: 100; font-stretch:ultra-condensed; line-height: 1.2; color:#2A2C2B; vertical-align:top\">  \n",
    "          <div align=\"center\" style=\"vertical-align:top\">\n",
    "            <img src= \"data/story_images/1_Good.png\" align=\"Center\" width=\"90%\" vertical-align=\"top\">\n",
    "          </div>  \n",
    "      </th>\n",
    "      <th style=\"font-size:16px; font-family:FreeMono; font-weight: 100; font-stretch:ultra-condensed; line-height: 1.2; color:#2A2C2B; vertical-align:top\">\n",
    "          <div align=\"center\">\n",
    "            <img src= \"data/story_images/3_Bad.png\" align=\"Center\" width=\"100%\" vertical-align=\"top\">\n",
    "          </div>\n",
    "      </th>\n",
    "      <th style=\"font-size:16px; font-family:FreeMono; font-weight: 100; font-stretch:ultra-condensed; line-height: 1.2; color:#2A2C2B; vertical-align:top\">  \n",
    "          <div align=\"center\" style=\"vertical-align:top\">\n",
    "            <img src= \"data/story_images/2_Better.png\" align=\"Center\" width=\"100%\" vertical-align=\"top\">\n",
    "          </div>  \n",
    "      </th>\n",
    "  </tr>    \n",
    "</table>\n"
   ]
  },
  {
   "cell_type": "markdown",
   "metadata": {},
   "source": [
    "<a id='Part_2'></a>\n",
    "<hr style=\"border: 4px solid#0B0B0B;\" />\n",
    "\n",
    "#### PART 2\n",
    "\n",
    "<br>\n",
    "\n",
    "<div align=\"left\" style=\"font-size:32px; font-family:FreeMono; font-weight: 100; font-stretch:ultra-condensed; line-height: 1.0; color:#2A2C2B\">\n",
    "    <strong>PYTHON</strong><br>VISUALIZATIONS:<strong> MATPLOTLIB</strong>\n",
    "</div>\n",
    "\n",
    "<br>\n",
    "\n",
    "<br>\n",
    "\n",
    "**General Information**\n",
    "\n",
    "##### **[1. Load Matplotlib ](#Part_2_1)** \n",
    ">https://matplotlib.org/faq/installing_faq.html#installation\n",
    "\n",
    "\n",
    "##### **[2. Matplotlib Object-Oriented Design (OOD) Hierarchy](#Part_2_2)** \n",
    ">https://matplotlib.org/tutorials/introductory/usage.html\n",
    "\n",
    " \n",
    "##### **[3. Two Approaches to Matplotlib](#Part_2_3)** \n",
    ">https://matplotlib.org/faq/howto_faq.html\n"
   ]
  },
  {
   "cell_type": "markdown",
   "metadata": {
    "slideshow": {
     "slide_type": "slide"
    }
   },
   "source": [
    "<a id='Part_2_1'></a>\n",
    "<hr style=\"border: 1px solid#0B0B0B;\" />\n",
    "\n",
    "### **2.1 - Load matplotlib**"
   ]
  },
  {
   "cell_type": "code",
   "execution_count": 7,
   "metadata": {
    "slideshow": {
     "slide_type": "subslide"
    }
   },
   "outputs": [],
   "source": [
    "# Standard way to import matplotlib from scratch: import matplotlib.pyplot as plt\n",
    "# you might also see import pylab, however the procedure below is preferred\n",
    "\n",
    "import numpy as np\n",
    "import pandas as pd\n",
    "import matplotlib\n",
    "import IPython\n",
    "import matplotlib as mpl\n",
    "import matplotlib.pyplot as plt  # always import pyplot module as plt (standard)\n",
    "from matplotlib.ticker import AutoMinorLocator, MultipleLocator, FuncFormatter\n",
    "\n",
    "%matplotlib inline"
   ]
  },
  {
   "cell_type": "markdown",
   "metadata": {
    "slideshow": {
     "slide_type": "slide"
    }
   },
   "source": [
    "<a id='Part_2_2'></a>\n",
    "<hr style=\"border: 1px solid#0B0B0B;\" />\n",
    "\n",
    "### **2.2 - Matplotlib Object-Oriented Design (OOD) Hierarchy**"
   ]
  },
  {
   "cell_type": "code",
   "execution_count": 10,
   "metadata": {},
   "outputs": [
    {
     "data": {
      "text/plain": [
       "<Figure size 648x648 with 0 Axes>"
      ]
     },
     "metadata": {},
     "output_type": "display_data"
    }
   ],
   "source": [
    "# This figure shows the name of several matplotlib elements composing a figure\n",
    "\n",
    "### Generate data ###\n",
    "np.random.seed(19680801)\n",
    "\n",
    "X = np.linspace(0.5, 3.5, 100)\n",
    "Y1 = 3+np.cos(X)\n",
    "Y2 = 1+np.cos(1+X/0.75)/2\n",
    "Y3 = np.random.uniform(Y1, Y2, len(X))\n",
    "\n",
    "def minor_tick(x, pos):\n",
    "    if not x % 1.0:\n",
    "        return \"\"\n",
    "    return \"%.2f\" % x\n",
    "\n",
    "\n",
    "\n",
    "### Set Figure: Plot figure ###\n",
    "fig = plt.figure(figsize=(9, 9))\n",
    "\n",
    "\n",
    "\"\"\"start\n",
    "### Set Axes: Establish a foundation ###\n",
    "ax = fig.add_subplot(1, 1, 1, aspect=1)   #axes != axis\n",
    "end\"\"\"\n",
    "\n",
    "\n",
    "\"\"\"start\n",
    "### Set Axes: Narrow your area of interest ###\n",
    "ax.xaxis.set_major_locator(MultipleLocator(1.000))\n",
    "ax.xaxis.set_minor_locator(AutoMinorLocator(4))\n",
    "ax.yaxis.set_major_locator(MultipleLocator(1.000))\n",
    "ax.yaxis.set_minor_locator(AutoMinorLocator(4))\n",
    "ax.xaxis.set_minor_formatter(FuncFormatter(minor_tick))\n",
    "end\"\"\"\n",
    "\n",
    "\n",
    "\"\"\"start\n",
    "### Set Artists ###\n",
    "ax.set_xlim(0, 4)\n",
    "ax.set_ylim(0, 4)\n",
    "\n",
    "ax.tick_params(which='major', width=1.0)\n",
    "ax.tick_params(which='major', length=10)\n",
    "ax.tick_params(which='minor', width=1.0, labelsize=10)\n",
    "ax.tick_params(which='minor', length=5, labelsize=10, labelcolor='0.25')\n",
    "\n",
    "ax.grid(linestyle=\"--\", linewidth=0.5, color='.25', zorder=-10)\n",
    "end\"\"\"\n",
    "\n",
    "\n",
    "\"\"\"start\n",
    "### Populate Axes - Plots ###\n",
    "ax.plot(X, Y1, c='green', lw=2, label=\"Green signal\", zorder=10)\n",
    "ax.plot(X, Y2, c='red', lw=2, label=\"Red signal\")\n",
    "ax.plot(X, Y3, linewidth=0,\n",
    "        marker='o', markerfacecolor='y', markeredgecolor='k')\n",
    "end\"\"\"\n",
    "\n",
    "\"\"\"start\n",
    "### Set Artists ###\n",
    "ax.set_title(\"Anatomy of a figure\", fontsize=22, verticalalignment='bottom')\n",
    "ax.set_xlabel(\"X axis label\")\n",
    "ax.set_ylabel(\"Y axis label\")\n",
    "\n",
    "ax.legend()\n",
    "end\"\"\"\n",
    "\n",
    "\n",
    "\"\"\"start\n",
    "### Function: Plot circles###\n",
    "def circle(x, y, radius=0.15, color='blue', facecolor=(0, 0, 0, .0125)):\n",
    "    from matplotlib.patches import Circle\n",
    "    from matplotlib.patheffects import withStroke\n",
    "    circle = Circle((x, y), radius, clip_on=False, zorder=10, linewidth=1,\n",
    "                    edgecolor=color, facecolor=facecolor,\n",
    "                    path_effects=[withStroke(linewidth=5, foreground='w')])\n",
    "    ax.add_artist(circle)\n",
    "\n",
    "\n",
    "### Function: Add text ###\n",
    "def text(x, y, text, va='top', weight='normal', color='blue'):\n",
    "    ax.text(x, y, text, backgroundcolor=\"white\",\n",
    "            ha='center', va=va, weight=weight, color=color)\n",
    "end\"\"\"\n",
    "    \n",
    "\n",
    "\"\"\"start \n",
    "### Set Artists: Creating some labels ###\n",
    "# Minor tick\n",
    "circle(0.50, -0.10)\n",
    "text(0.50, -0.32, \"Minor tick label\")\n",
    "\n",
    "\n",
    "# Major tick\n",
    "circle(-0.03, 4.00)\n",
    "text(0.03, 3.80, \"Major tick\")\n",
    "\n",
    "# Minor tick\n",
    "circle(0.00, 3.50)\n",
    "text(0.00, 3.30, \"Minor tick\")\n",
    "\n",
    "# Major tick label\n",
    "circle(-0.15, 3.00)\n",
    "text(-0.15, 2.80, \"Major tick label\")\n",
    "\n",
    "# X Label\n",
    "circle(1.80, -0.27)\n",
    "text(1.80, -0.45, \"X axis label\")\n",
    "\n",
    "# Y Label\n",
    "circle(-0.27, 1.80)\n",
    "text(-0.27, 1.6, \"Y axis label\")\n",
    "\n",
    "# Grid\n",
    "circle(3.00, 3.00)\n",
    "text(3.00, 2.80, \"Grid\")\n",
    "\n",
    "# Green line plot\n",
    "circle(1.75, 2.80)\n",
    "text(1.75, 2.60, \"Line\\n(line plot)\")\n",
    "\n",
    "# Red line plot\n",
    "circle(1.20, 0.60)\n",
    "text(1.20, 0.40, \"Line\\n(line plot)\")\n",
    "\n",
    "# Yellow scatter plot\n",
    "circle(3.20, 1.75)\n",
    "text(3.20, 1.55, \"Markers\\n(scatter plot)\")\n",
    "\n",
    "# Title\n",
    "radius=0.18\n",
    "circle(1.60, 4.13, radius)\n",
    "text(1.60, 3.93, \"Title\")\n",
    "\n",
    "# Legend\n",
    "radius=0.18\n",
    "circle(3.70, 3.80, radius)\n",
    "text(3.70, 3.60, \"Legend\")\n",
    "\n",
    "# Axes\n",
    "weight='black'\n",
    "radius =0.25\n",
    "color='cyan'\n",
    "va='bottom'\n",
    "facecolor=(0, 1, 1, .0125)\n",
    "circle(0.5, 0.5, radius, color, facecolor)\n",
    "text(0.5, 0.45, \"Axes\", va, weight, color)\n",
    "\n",
    "# Figure\n",
    "weight='black'\n",
    "color='magenta'\n",
    "radius=0.25\n",
    "va='bottom'\n",
    "facecolor=(1, 0, 1, .0125)\n",
    "circle(-0.3, 0.65, radius, color, facecolor)\n",
    "text(-0.3, 0.60, \"Figure\", va, weight, color)\n",
    "\n",
    "\n",
    "# Annotations - drawing some arrows to call attention to spines\n",
    "spine_color = 'blue'\n",
    "# right arrow\n",
    "ax.annotate('Spines', xy=(4.0, 0.35), xycoords='data',\n",
    "            xytext=(3.3, 0.5), textcoords='data',\n",
    "            weight='bold', color=spine_color,\n",
    "            arrowprops=dict(arrowstyle='->',\n",
    "                            connectionstyle=\"arc3\",\n",
    "                            color=spine_color))\n",
    "# left arrow\n",
    "ax.annotate('', xy=(3.15, 0.0), xycoords='data',\n",
    "            xytext=(3.45, 0.45), textcoords='data',\n",
    "            weight='bold', color=spine_color,\n",
    "            arrowprops=dict(arrowstyle='->',\n",
    "                            connectionstyle=\"arc3\",\n",
    "                            color=spine_color))\n",
    "# Image caption bottom right\n",
    "ax.text(4.0, -0.4, \"Made with http://matplotlib.org\",\n",
    "        fontsize=10, ha=\"right\", color='.5')\n",
    "\n",
    "plt.show()\n",
    "end\"\"\";\n",
    "\n",
    "#plt.savefig('data/anatomy_of_figure.svg', bbox_inches='tight')\n"
   ]
  },
  {
   "cell_type": "markdown",
   "metadata": {
    "slideshow": {
     "slide_type": "subslide"
    }
   },
   "source": [
    "___\n",
    "\n",
    "\n",
    "**Artist (Specification)**\n",
    "\n",
    "> Everything you can see on the figure is an artist, including Figure, Axes, Axis-objects, text-object, etc.\n",
    "\n",
    "> Most Artists are tied to an Axes -- an Artist cannot be shared by, or moved from one to another, Axes\n",
    "\n",
    "\n",
    "**Axes (Assembly)**\n",
    "\n",
    "> Actual plots\n",
    "\n",
    "> Each axes contains smaller objects such as tick marks, individual lines, legends, and text boxes. \n",
    "\n",
    "\n",
    "**Figure (Display)** \n",
    "\n",
    "> Outermost container for a matplotlib graphic.\n",
    "\n",
    "> Can contain multiple Axes objects.\n"
   ]
  },
  {
   "cell_type": "markdown",
   "metadata": {
    "slideshow": {
     "slide_type": "subslide"
    }
   },
   "source": [
    "<a id='Part_2_3'></a>\n",
    "<hr style=\"border: 1px solid#0B0B0B;\" />\n",
    "\n",
    "### **2.3 - Two plotting approaches**\n",
    "\n",
    "There are two approaches to plotting:\n",
    "\n",
    "##### **[1. The state-based / MATLAB approach (Procedural) ](#Part_2_3_1)** \n",
    "https://matplotlib.org/tutorials/introductory/pyplot.html\n",
    "\n",
    "> Most Common way of using matplotlib. \n",
    "\n",
    "> It is not pythonic, relies on global functions, and displays global figures. \n",
    "\n",
    "> Easy approach for interactive use. \n",
    "\n",
    "> Each pyplot function makes some change to a figure: e.g., creates a figure, creates a plotting area in a figure, plots some lines in a plotting area, decorates the plot with labels, etc.\n",
    "\n"
   ]
  },
  {
   "cell_type": "markdown",
   "metadata": {
    "slideshow": {
     "slide_type": "subslide"
    }
   },
   "source": [
    "\n",
    "##### **[2. Object-oriented approach (Pythonic, preferred) ](#Part_2_3_2)** \n",
    "https://matplotlib.org/tutorials/introductory/lifecycle.html\n",
    "\n",
    "> Pythonic is object oriented. \n",
    "\n",
    "> You obtain an empty figure from a global factory and build plots explicityly using methos of the figure and classes it contains. \n",
    "\n",
    "> \n",
    "\n",
    "<br>"
   ]
  },
  {
   "cell_type": "markdown",
   "metadata": {
    "slideshow": {
     "slide_type": "slide"
    }
   },
   "source": [
    "<a id='Part_2_3_1'></a>\n",
    "<hr style=\"border: 2px solid#0B0B0B;\" />\n",
    "\n",
    "### **2.3.1 - The state-based / MATLAB approach (non-pythonic)** "
   ]
  },
  {
   "cell_type": "markdown",
   "metadata": {
    "slideshow": {
     "slide_type": "subslide"
    }
   },
   "source": [
    "**Note that the command:**\n",
    "``` python\n",
    "plt.plot(x,y)\n",
    "```\n",
    "will create a `figure object` ( the canvas that we plot on ) and an `axes object` that is the plot with lines and info. "
   ]
  },
  {
   "cell_type": "code",
   "execution_count": null,
   "metadata": {
    "slideshow": {
     "slide_type": "subslide"
    }
   },
   "outputs": [],
   "source": [
    "plt.plot()\n",
    "#type(plt.plot()); # plt.plot() creates empty plot, semi colon suppresses text output"
   ]
  },
  {
   "cell_type": "code",
   "execution_count": null,
   "metadata": {
    "slideshow": {
     "slide_type": "subslide"
    }
   },
   "outputs": [],
   "source": [
    "#explore attributes\n",
    "dir(plt.plot())"
   ]
  },
  {
   "cell_type": "code",
   "execution_count": null,
   "metadata": {
    "slideshow": {
     "slide_type": "skip"
    }
   },
   "outputs": [],
   "source": [
    "# ensure style is to IPython default on your second go round\n",
    "\n",
    "#plt.rcParams.update(IPython_default);"
   ]
  },
  {
   "cell_type": "markdown",
   "metadata": {
    "slideshow": {
     "slide_type": "slide"
    }
   },
   "source": [
    "<hr style=\"border: 1px solid#0B0B0B;\" />\n",
    "\n",
    "### Simple Line Plot"
   ]
  },
  {
   "cell_type": "code",
   "execution_count": null,
   "metadata": {
    "cell_style": "center",
    "slideshow": {
     "slide_type": "subslide"
    }
   },
   "outputs": [],
   "source": [
    "plt.plot([1,2,3])\n",
    "plt.ylabel('Numbers')\n",
    "plt.xlabel('where did these come from?')\n",
    "\n",
    "plt.show()  # Note: we don't have to run plt.show() if we have run  %matplotlib inline  once in the kernel session\n",
    "\n",
    "\"\"\"Note: if plot() receives only a single list/array of data, matplotlib assumes it is a sequence of y-values and automatically genereates the x-values\"\"\""
   ]
  },
  {
   "cell_type": "markdown",
   "metadata": {
    "slideshow": {
     "slide_type": "slide"
    }
   },
   "source": [
    "<hr style=\"border: 1px solid#0B0B0B;\" />\n",
    "\n",
    "### Compound Lines\n",
    "\n",
    "> __Key Concept:__ any compount plot requires that each 'input' be of the same dimension/length"
   ]
  },
  {
   "cell_type": "code",
   "execution_count": null,
   "metadata": {
    "slideshow": {
     "slide_type": "subslide"
    }
   },
   "outputs": [],
   "source": [
    "# Simple plot of two lists, x versus y, plt.plot(x,y, color_type)\n",
    "# note that they are of equal length\n",
    "\n",
    "plt.plot([1,2,3,4],[-1,1,4,8]) # elements of list form an ordered pair\n",
    "plt.axis([0,5,0,6])            # [x_start, x_stop, y_start, y_stop] specifies the viewport of the axes\n",
    "plt.show()  "
   ]
  },
  {
   "cell_type": "markdown",
   "metadata": {
    "slideshow": {
     "slide_type": "subslide"
    }
   },
   "source": [
    ">**Note:** The letters and symbols of the format string are taken from MATLAB -- you concatenate a color string with a line style string. E.g. 'bo' := blue o's"
   ]
  },
  {
   "cell_type": "markdown",
   "metadata": {
    "slideshow": {
     "slide_type": "slide"
    }
   },
   "source": [
    "<hr style=\"border: 1px solid#0B0B0B;\" />\n",
    "\n",
    "### Plot 100 Random Numbers For **Three Categories From A Numpy Array**\n"
   ]
  },
  {
   "cell_type": "code",
   "execution_count": null,
   "metadata": {
    "slideshow": {
     "slide_type": "subslide"
    }
   },
   "outputs": [],
   "source": [
    "# every new cell where you run plt.plot() will create a new figure\n",
    "N = 100 \n",
    "x = np.arange(1,N+1)\n",
    "y = np.random.randn(N)\n",
    "\n",
    "# red dashes, blue squares and green triangles\n",
    "plt.plot(x, y, 'r--', x, y**2, 'bs', x, y**3, 'g^')\n",
    "plt.axis([0,100,0,15])\n",
    "plt.show()\n",
    "\n"
   ]
  },
  {
   "cell_type": "markdown",
   "metadata": {
    "slideshow": {
     "slide_type": "slide"
    }
   },
   "source": [
    "<hr style=\"border: 1px solid#0B0B0B;\" />\n",
    "\n",
    "### Plotting From **Pandas Dataframes**"
   ]
  },
  {
   "cell_type": "code",
   "execution_count": null,
   "metadata": {
    "cell_style": "center",
    "slideshow": {
     "slide_type": "subslide"
    }
   },
   "outputs": [],
   "source": [
    "# if plt.plot(*args) are run in the same cell, they will plot on the same axes\n",
    "\n",
    "data = {'a': np.arange(50),\n",
    "        'c': np.random.randint(0, 50, 50),\n",
    "        'd': np.random.randn(50)}\n",
    "\n",
    "data['b'] = data['a'] + 10 * np.random.randn(50)\n",
    "data['d'] = np.abs(data['d']) * 100\n",
    "\n"
   ]
  },
  {
   "cell_type": "code",
   "execution_count": null,
   "metadata": {
    "cell_style": "center"
   },
   "outputs": [],
   "source": [
    "plt.scatter('a', 'b', c='c', s='d', data=data)\n",
    "plt.xlabel('entry a')\n",
    "plt.ylabel('entry b')"
   ]
  },
  {
   "cell_type": "markdown",
   "metadata": {
    "slideshow": {
     "slide_type": "subslide"
    }
   },
   "source": [
    "**Note that the command:**\n",
    "``` python\n",
    "dir(plt)\n",
    "```\n",
    "will display all the available 'attributes' and 'functions' for the plt object \n",
    "\n",
    ">**More info** - https://matplotlib.org/2.1.1/api/_as_gen/matplotlib.pyplot.plot.html"
   ]
  },
  {
   "cell_type": "markdown",
   "metadata": {
    "slideshow": {
     "slide_type": "slide"
    }
   },
   "source": [
    "<hr style=\"border: 1px solid#0B0B0B;\" />\n",
    "\n",
    "### New Plot, One Cell (i.e. Same Figure, New Axes)\n",
    "`plt.figure()` creates a new figure in the same cell"
   ]
  },
  {
   "cell_type": "code",
   "execution_count": null,
   "metadata": {
    "cell_style": "split",
    "slideshow": {
     "slide_type": "subslide"
    }
   },
   "outputs": [],
   "source": [
    "# if plt.plot(*args) are run in the same cell\n",
    "# we will plot on the same axes--to observe \n",
    "# behavior, change order of plt.figure()\n",
    "\n",
    "# Scaterplot\n",
    "plt.scatter('a', 'b', c='c', s='d', data=data);"
   ]
  },
  {
   "cell_type": "code",
   "execution_count": null,
   "metadata": {
    "cell_style": "split",
    "scrolled": true
   },
   "outputs": [],
   "source": [
    "# Bars\n",
    "# different method plotted on same figure\n",
    "# semicolon supreses text of object details\n",
    "\n",
    "\n",
    "plt.hist('a')  \n",
    "plt.hist('b'); "
   ]
  },
  {
   "cell_type": "markdown",
   "metadata": {
    "slideshow": {
     "slide_type": "skip"
    }
   },
   "source": [
    "___"
   ]
  },
  {
   "cell_type": "code",
   "execution_count": null,
   "metadata": {
    "slideshow": {
     "slide_type": "subslide"
    }
   },
   "outputs": [],
   "source": [
    "x = np.linspace(0, 1, 100)\n",
    "# lines\n",
    "plt.plot(x, x, label='linear')\n",
    "plt.plot(x, x**2, label='quadratic')\n",
    "plt.plot(x, x**3, label='cubic')\n",
    "plt.xlabel('x label')\n",
    "plt.ylabel('y label')\n",
    "plt.title(\"Three Lines\")  # note the ordering of color by matplotlib\n",
    "\n",
    "\n",
    "plt.legend();"
   ]
  },
  {
   "cell_type": "markdown",
   "metadata": {
    "slideshow": {
     "slide_type": "slide"
    }
   },
   "source": [
    "<hr style=\"border: 1px solid#0B0B0B;\" />\n",
    "\n",
    "### Combine Line & Scatter Plots From **Categorical Variables**"
   ]
  },
  {
   "cell_type": "code",
   "execution_count": null,
   "metadata": {
    "slideshow": {
     "slide_type": "subslide"
    }
   },
   "outputs": [],
   "source": [
    "names = ['grade_a', 'grade_b', 'grade_c', 'grade_d', 'grade_f']\n",
    "values = [10, 30, 20, 8, 3]\n",
    "\n",
    "plt.plot(names,values, 'm-')  # 'm- := color+markerType'\n",
    "plt.scatter(names, values);"
   ]
  },
  {
   "cell_type": "markdown",
   "metadata": {
    "slideshow": {
     "slide_type": "slide"
    }
   },
   "source": [
    "<hr style=\"border: 1px solid#0B0B0B;\" />\n",
    "\n",
    "### Line & Scatter Plot With Annotations"
   ]
  },
  {
   "cell_type": "code",
   "execution_count": null,
   "metadata": {
    "slideshow": {
     "slide_type": "subslide"
    }
   },
   "outputs": [],
   "source": [
    "plt.plot(names,values,marker='*')\n",
    "plt.text('grade_c', 30, r'$grade=b,\\ students=30$')  # (location_y, location_x, *args);\n",
    "# xy := location being annotated;\n",
    "# xytext := location to place the text;\n",
    "\n",
    "\n",
    "#plt.annotate('local max', xy=('grade_b', 30), xytext=(3, 20),\n",
    "#             arrowprops=dict(facecolor='magenta', shrink=0.0005),\n",
    "#             );\n",
    "\n"
   ]
  },
  {
   "cell_type": "markdown",
   "metadata": {
    "slideshow": {
     "slide_type": "slide"
    }
   },
   "source": [
    "<hr style=\"border: 1px solid#0B0B0B;\" />\n",
    "\n",
    "### Histograms, Scatter & Line Plots Using **Subplots**"
   ]
  },
  {
   "cell_type": "markdown",
   "metadata": {
    "slideshow": {
     "slide_type": "subslide"
    }
   },
   "source": [
    "**Note that the command:**\n",
    "``` python\n",
    "plt.subplot(*args)\n",
    "```\n",
    "will create an `axes.SubplotBase`. \n",
    ">**For more info** - https://matplotlib.org/api/_as_gen/matplotlib.pyplot.subplot.html#matplotlib.pyplot.subplot"
   ]
  },
  {
   "cell_type": "code",
   "execution_count": null,
   "metadata": {
    "scrolled": false,
    "slideshow": {
     "slide_type": "subslide"
    }
   },
   "outputs": [],
   "source": [
    "######## TALK ABOUT THIS ONE #########\n",
    "\n",
    "plt.figure(1, figsize=(16, 3)) # layout and label-dimensions for plots\n",
    "\n",
    "## recall Axes are not shared. So to have multiple plots on the same image, you use subplots\n",
    "\n",
    "\n",
    "plt.subplot(132)                # num_rows|num_cols|position\n",
    "plt.title('Data-X Grades\\n\\n')\n",
    "plt.bar(names, values)\n",
    "plt.subplot(131)\n",
    "plt.scatter(names, values)\n",
    "plt.subplot(133)\n",
    "plt.plot(names, values)\n",
    "#plt.suptitle(r'$Categorical \\ Plotting: C\\left(Obj(x),\\ f:x\\longrightarrow y \\right)$');  # TeX in plots\n",
    "\n",
    "# automatically space subplots \n",
    "#plt.tight_layout()"
   ]
  },
  {
   "cell_type": "markdown",
   "metadata": {
    "slideshow": {
     "slide_type": "slide"
    }
   },
   "source": [
    "#### But\n",
    "What if we want to feed different data to each subplot?\n"
   ]
  },
  {
   "cell_type": "markdown",
   "metadata": {
    "slideshow": {
     "slide_type": "slide"
    }
   },
   "source": [
    "<hr style=\"border: 1px solid#0B0B0B;\" />\n",
    "\n",
    "### Multiple **Subplots With Nonlinear Axes & Variable Spacing**"
   ]
  },
  {
   "cell_type": "code",
   "execution_count": null,
   "metadata": {
    "slideshow": {
     "slide_type": "skip"
    }
   },
   "outputs": [],
   "source": [
    "# Fixing random state for reproducibility\n",
    "np.random.seed(135)\n",
    "\n",
    "# make up some data in the interval [0, 1]\n",
    "y = np.random.normal(loc=0.5, scale=0.4, size=1000)\n",
    "y = y[(y > 0) & (y < 1)]\n",
    "y.sort()\n",
    "x = np.arange(len(y))"
   ]
  },
  {
   "cell_type": "code",
   "execution_count": null,
   "metadata": {
    "slideshow": {
     "slide_type": "subslide"
    }
   },
   "outputs": [],
   "source": [
    "from matplotlib.ticker import NullFormatter  # useful for `logit` scale\n",
    "\n",
    "plt.figure(1, figsize=(8,6)); # layout and label-dimensions for plots\n",
    "\n",
    "# plot with various axes scales\n",
    "plt.figure(1);"
   ]
  },
  {
   "cell_type": "code",
   "execution_count": null,
   "metadata": {
    "slideshow": {
     "slide_type": "subslide"
    }
   },
   "outputs": [],
   "source": [
    "# linear\n",
    "plt.subplot(221)\n",
    "plt.plot(x, y)\n",
    "plt.yscale('linear')\n",
    "plt.title('linear')\n",
    "plt.grid(True)\n",
    "\n",
    "# log with no grids\n",
    "plt.subplot(222)\n",
    "plt.plot(x, y)\n",
    "plt.yscale('log')\n",
    "plt.title('log')\n",
    "plt.grid(False)\n",
    "\n",
    "# symmetric log with no frame\n",
    "plt.subplot(223, frameon=False)\n",
    "plt.plot(x, y - y.mean())\n",
    "plt.yscale('symlog', linthreshy=0.01)\n",
    "plt.title('symlog')\n",
    "plt.grid(True)\n",
    "\n",
    "# logit clean plot and in oragne\n",
    "plt.subplot(224,facecolor='red')  # Note: facecolor requires frameon=True\n",
    "plt.plot(x, y, color = 'white')\n",
    "plt.yscale('logit')\n",
    "plt.title('logit')\n",
    "plt.grid(False)\n",
    "\n",
    "# Format the minor tick labels of the y-axis into empty strings with\n",
    "# `NullFormatter`, to avoid cumbering the axis with too many labels.\n",
    "plt.gca().yaxis.set_minor_formatter(NullFormatter())\n",
    "\n",
    "# Adjust the subplot layout manually\n",
    "plt.subplots_adjust(top=0.92, bottom=0.08, left=0.10, right=0.95, hspace=0.65,\n",
    "                    wspace=0.65)\n",
    "\n",
    "# OR automatically space subplots \n",
    "#plt.tight_layout()"
   ]
  },
  {
   "cell_type": "markdown",
   "metadata": {
    "slideshow": {
     "slide_type": "skip"
    }
   },
   "source": [
    "<!--Navigate back to table of contents-->\n",
    "<div alig=\"right\" style=\"text-align: right\">\n",
    "    <span>\n",
    "        <a style=\"color:#FFFFFF; background-color:#0D0D0D; border:1px solid #FFFFFF; border-color:#FFFFFF;border-radius:5px;border-width:0px;display:inline-block;font-family:arial,helvetica,sans-serif;font-size:10px;letter-spacing:0px;line-height:10px;padding:10px 20px;text-align:center;text-decoration:none; align:center\" href=\"#Part_table_contents\" name=\"Table of Contents\"  id=\"Part_table_contents\"> \n",
    "            Table of Contents \n",
    "        </a>\n",
    "    </span>\n",
    "</div>\n",
    "<!-------------------------------------->"
   ]
  },
  {
   "cell_type": "markdown",
   "metadata": {
    "slideshow": {
     "slide_type": "slide"
    }
   },
   "source": [
    "<a id='Part_2_3_2'></a>\n",
    "<hr style=\"border: 2px solid#0B0B0B;\" />\n",
    "\n",
    "### **2.3.2 - Object-Oriented (O O) Approach (Pythonic is preferred)**\n",
    "The object-oriented approach is more powerful and should be used when you want more control of your visualization. Instead of letting matplotlib handle what _figure_ and _axes_ are used, we assign the `figure` and `axes` objects to variables and then apply functions via methods. \n",
    "\n",
    "<br>\n"
   ]
  },
  {
   "cell_type": "markdown",
   "metadata": {
    "slideshow": {
     "slide_type": "subslide"
    }
   },
   "source": [
    "<div align=\"center\">\n",
    "    <img src= \"https://files.realpython.com/media/fig_map.bc8c7cabd823.png\" align=\"center\" width='20%'>\n",
    "</div>\n"
   ]
  },
  {
   "cell_type": "markdown",
   "metadata": {
    "slideshow": {
     "slide_type": "slide"
    }
   },
   "source": [
    "- The **Artists** are everything you see in invididual plots.  https://matplotlib.org/users/artists.html\n",
    "\n",
    "> Artists are not shared or transferred.\n",
    "\n",
    "> Can be declared/modified prior/after _axes_\n",
    "\n",
    "> Typical user will spend 95% of their time working with the Artists. \n",
    "\n",
    "\n",
    "- The **Axes** represent individual plot(s).\n",
    "\n",
    "> Can be declared/modifed prior/after the _figure_ is declared\n",
    "\n",
    "\n",
    "- The **Figure** is the final image and may contain one or more Axes.\n",
    "\n",
    "> Must be declared prior to populating _axes_.\n"
   ]
  },
  {
   "cell_type": "code",
   "execution_count": null,
   "metadata": {},
   "outputs": [],
   "source": [
    "fig2 = plt.figure()                        # instantiate object \n",
    "ax2 = fig2.add_axes([0.15, 0.1, 0.7, 0.3]) # act on object\n",
    "ax2"
   ]
  },
  {
   "cell_type": "markdown",
   "metadata": {},
   "source": [
    "<hr style=\"border: 1px solid#0B0B0B;\" />\n",
    "\n",
    "### Simple Line Plot(s)"
   ]
  },
  {
   "cell_type": "code",
   "execution_count": null,
   "metadata": {
    "slideshow": {
     "slide_type": "subslide"
    }
   },
   "outputs": [],
   "source": [
    "# f is the canvas object, can contain several plots i.e. axes objects (p)\n",
    "f, ax = plt.subplots() # returns tuple:\n",
    "\n",
    "group_mean = np.mean(values)/4\n",
    "\n",
    "# Add a horizontal line denoting average\n",
    "ax.axhline(group_mean, ls='--', color='r')\n",
    "\n",
    "# data as parameters\n",
    "ax.plot([1,2,3,4],[5,2,8,7]);\n",
    "ax.hist(np.random.randint(1,4,10));"
   ]
  },
  {
   "cell_type": "markdown",
   "metadata": {
    "slideshow": {
     "slide_type": "slide"
    }
   },
   "source": [
    "<hr style=\"border: 1px solid#0B0B0B;\" />\n",
    "\n",
    "### Plots Within Plots (**Embedded Axes**)"
   ]
  },
  {
   "cell_type": "code",
   "execution_count": null,
   "metadata": {
    "slideshow": {
     "slide_type": "subslide"
    }
   },
   "outputs": [],
   "source": [
    "### uncomment axes to see what they do ###\n",
    "# Another approach, only create figure, then add subplots\n",
    "\n",
    "f = plt.figure()\n",
    "#ax1 = f.add_subplot(1,1,1)           # add subplot at location 1,1,1\n",
    "\n",
    "# set axes dimensions [x_start, y_start, x_stop, y_stop]\n",
    "ax1 = f.add_axes([0.1, 0.1, 1.0, 1.0]) # main axes\n",
    "#ax2 = f.add_axes([0.8, 0.3, 0.2, 0.3]) # inset axes \n",
    "\n",
    "# same as: ax = f.add_subplot(111)\n",
    "ax1.plot([0,2,3,4],[3,2,8, 7], color='r')\n",
    "#ax2.hist(np.random.randint(1,3,10), alpha=0.1, color='b');\n",
    "\n",
    "# auto adjust axis\n",
    "ax1.axis('equal')\n",
    "\n",
    "# insert axis within axis\n",
    "#ax2.plot()\n",
    "#ax2.set_xlabel('cups')\n",
    "#ax2.set_ylabel('attention')\n",
    "#ax2.set_title('Attention and Caffeine');\n",
    "\n",
    "#xy := location being annotated\n",
    "# xytext := location to place the text\n",
    "\n",
    "\n",
    "#ax1.annotate('drank coffee', xy=(2, 2), xycoords='data',  xytext=(85,0),\n",
    "#            textcoords='offset points', size=13, ha='left', va='center',\n",
    "#            bbox = dict(boxstyle=\"round\", alpha=0.3),\n",
    "#            arrowprops=dict(arrowstyle=\"wedge, tail_width=0.5\", alpha=0.3));\n"
   ]
  },
  {
   "cell_type": "markdown",
   "metadata": {
    "slideshow": {
     "slide_type": "slide"
    }
   },
   "source": [
    "<hr style=\"border: 1px solid#0B0B0B;\" />\n",
    "\n",
    "### **Multiple Subplots** On The Same Figure"
   ]
  },
  {
   "cell_type": "code",
   "execution_count": null,
   "metadata": {
    "slideshow": {
     "slide_type": "subslide"
    }
   },
   "outputs": [],
   "source": [
    "### uncomment axes to see what they do ###\n",
    "\n",
    "f, ax = plt.subplots(nrows=2,ncols=2)\n",
    "# or\n",
    "# f, (ax1, ax2, ax3, ax4) = plt.subplots(nrows=2,ncols=2)\n",
    "\n",
    "# or,\n",
    "# fig = plt.figure()\n",
    "# ax1 = plt.subplot(221) #2x2 grid, first plot\n",
    "# ax2 = plt.subplot(222)\n",
    "# ax3 = plt.subplot(223)\n",
    "# ax4 = plt.subplot(224)\n",
    "# ax1.plot(x,y) etc..\n",
    "\n",
    "### Note: orientation is given by [row, col]\n",
    "ax[0,0].plot(x, y)\n",
    "ax[1,0].scatter(x, y)\n",
    "ax[0,1].hist(values)\n",
    "ax[1,1].barh(x,np.abs(y))\n",
    "\n",
    "# add some auto-spacing\n",
    "#plt.tight_layout();"
   ]
  },
  {
   "cell_type": "markdown",
   "metadata": {
    "slideshow": {
     "slide_type": "slide"
    }
   },
   "source": [
    "<hr style=\"border: 1px solid#0B0B0B;\" />\n",
    "\n",
    "### Custom Subplot Grids"
   ]
  },
  {
   "cell_type": "code",
   "execution_count": null,
   "metadata": {},
   "outputs": [],
   "source": [
    "# create some data\n",
    "\n",
    "x = np.linspace(0,2*np.pi,10000)\n",
    "y1 = np.sin(x)\n",
    "y2 = np.sin(x)**2"
   ]
  },
  {
   "cell_type": "code",
   "execution_count": null,
   "metadata": {
    "slideshow": {
     "slide_type": "subslide"
    }
   },
   "outputs": [],
   "source": [
    "# We can make arbitrarly complicated subplot grids with plt.subplot2grid\n",
    "# example taken from Python Bootcamp https://github.com/profjsb/python-bootcamp\n",
    "\n",
    "f = plt.figure()\n",
    "\n",
    "# subplot2grid(grid_shape, loc_in_grid, rowspan=1, colspan=1)\n",
    "# 3 x 3 grid\n",
    "\n",
    "# Specify the grid\n",
    "ax1 = plt.subplot2grid((3,3), (0,0), colspan=3) # spans three cols\n",
    "ax2 = plt.subplot2grid((3,3), (1,0), colspan=2) # 3 \n",
    "ax3 = plt.subplot2grid((3,3), (1,2), rowspan=2)\n",
    "ax4 = plt.subplot2grid((3,3), (2,0))\n",
    "ax5 = plt.subplot2grid((3,3), (2,1))\n",
    "\n",
    "# remove tick labels on all axes\n",
    "for ax in f.axes:\n",
    "    for t in ax.get_xticklabels() + ax.get_yticklabels():\n",
    "        t.set_visible(False)\n",
    "    \n",
    "\n",
    "# make a different kinds of plots!\n",
    "ax1.plot(x, y1)\n",
    "ax2.hist(y1)\n",
    "ax3.scatter(x,y1)\n",
    "ax4.boxplot(y1)\n",
    "ax5.loglog(x, y1)\n",
    "\n",
    "# Add title artists to axes\n",
    "ax1.set_title('This')\n",
    "ax3.set_title('plot')\n",
    "ax5.set_title('rules!')\n",
    "f.suptitle('Grid layout, yeah!',fontsize = 20, y = 1.1) # y location\n",
    "\n",
    "f.tight_layout()    # great command for adding white space\n",
    "                    # between plots"
   ]
  },
  {
   "cell_type": "markdown",
   "metadata": {
    "slideshow": {
     "slide_type": "skip"
    }
   },
   "source": [
    "<!--Navigate back to table of contents-->\n",
    "<div alig=\"right\" style=\"text-align: right\">\n",
    "    <span>\n",
    "        <a style=\"color:#FFFFFF; background-color:#0D0D0D; border:1px solid #FFFFFF; border-color:#FFFFFF;border-radius:5px;border-width:0px;display:inline-block;font-family:arial,helvetica,sans-serif;font-size:10px;letter-spacing:0px;line-height:10px;padding:10px 20px;text-align:center;text-decoration:none; align:center\" href=\"#Part_table_contents\" name=\"Table of Contents\"  id=\"Part_table_contents\"> \n",
    "            Table of Contents \n",
    "        </a>\n",
    "    </span>\n",
    "</div>\n",
    "<!-------------------------------------->"
   ]
  },
  {
   "cell_type": "markdown",
   "metadata": {
    "slideshow": {
     "slide_type": "slide"
    }
   },
   "source": [
    "<hr style=\"border: 5px solid#1f77b4;\" />\n",
    "\n",
    "### Quick Asside -- Hello Plotly: Processing **Matplotlib with plot_mpl()**\n",
    "\n",
    "> **Option 1:** Register an account with Ploty and get API keys https://plot.ly\n",
    "\n",
    "> **Option 2:** Download static image to desired path -- more on this bellow.\n"
   ]
  },
  {
   "cell_type": "code",
   "execution_count": null,
   "metadata": {
    "slideshow": {
     "slide_type": "subslide"
    }
   },
   "outputs": [],
   "source": [
    "### Option 1 ###\n",
    "# -> settings -> API Keys\n",
    "import plotly.plotly as py\n",
    "import plotly.tools as tls\n",
    "init_notebook_mode()\n",
    "\n",
    "\n",
    "\n",
    "# connect to plotly api\n",
    "# you will need your account in order to use plotly online\n",
    "py.sign_in('ehcastroh', 't4heRCYxkf6hdz2Hb0mo') #(user_name, api_key)\n",
    "\n",
    "# url object\n",
    "mat_plotly = py.plot_mpl(f, auto_open=False)    #plot_mpl does not work in offline mode\n",
    "print(mat_plotly)\n",
    "\n",
    "# iframe object\n",
    "#plt_iframe = tls.get_embed(mat_plotly);\n",
    "#print(plt_iframe)\n",
    "\n",
    "\n",
    "\"\"\"\n",
    "    Note: \n",
    "    if you get error \"Invalid value of type 'builtins.str' received for the 'color' property of...\n",
    "    It is related to this bug --> https://github.com/santosjorge/cufflinks/issues/119\n",
    "    \n",
    "    You can either do the work-around, or get deprecated verion of plotly by typing the \n",
    "    following in a new terminal (command line)\n",
    "    \n",
    "    pip uninstall plotly                       # clean removal\n",
    "    conda install -c conda-forge cufflinks-py  # dependencies\n",
    "    pip install plotly==2.7.0                  # clean install\n",
    "        \n",
    "\"\"\" "
   ]
  },
  {
   "cell_type": "code",
   "execution_count": null,
   "metadata": {
    "slideshow": {
     "slide_type": "subslide"
    }
   },
   "outputs": [],
   "source": [
    "\n",
    "\n",
    "### Display plotly iframe within HTML ###\n",
    "from IPython.display import HTML\n",
    "HTML(\"\"\"<div style=\"text-align: center\">\n",
    "            <iframe width=\"50%\" height=\"600\" src=\"https://plot.ly/~ehcastroh/100.embed?&modebar=false&link=false\" frameborder=\"0\"></iframe>\n",
    "        </div>\n",
    "        <div style=\"text-align: center\">\n",
    "            <strong>Note: ?& </strong> in your source parameter - toward the end of the url. These query arguements allow you to modify what is displayed.\n",
    "        </div>\n",
    "     \"\"\") \n",
    "\n",
    "# or\n",
    "# you can also import the iframe package and display it without using html -- each have their benefits ;)\n",
    "# or\n",
    "# you can offline plot and download an image to be used as desired."
   ]
  },
  {
   "cell_type": "markdown",
   "metadata": {
    "slideshow": {
     "slide_type": "skip"
    }
   },
   "source": [
    "<br>\n",
    "\n",
    "### Quick Aside Done -- Good Bye Plotly, for now...\n",
    "<hr style=\"border: 5px solid#1f77b4;\" />"
   ]
  },
  {
   "cell_type": "markdown",
   "metadata": {
    "slideshow": {
     "slide_type": "slide"
    }
   },
   "source": [
    "<hr style=\"border: 1px solid#0B0B0B;\" />\n",
    "\n",
    "### Plot **Styling:** Labels, Text, Legend & Changing Colors"
   ]
  },
  {
   "cell_type": "code",
   "execution_count": null,
   "metadata": {
    "slideshow": {
     "slide_type": "skip"
    }
   },
   "outputs": [],
   "source": [
    "# create some data\n",
    "N = 50 \n",
    "x = np.arange(1,N+1)\n",
    "y = np.random.randn(N)"
   ]
  },
  {
   "cell_type": "code",
   "execution_count": null,
   "metadata": {
    "slideshow": {
     "slide_type": "subslide"
    }
   },
   "outputs": [],
   "source": [
    "# Three different line plots on same axes\n",
    "fig, ax = plt.subplots()\n",
    "\n",
    "# add plot LaTex style title, with line breaks (To r'LaTex' or not to r'LaTex')\n",
    "ax.set_title('3 Graphs (g): $\\sum^3_i= g_i$\\nsubtitle\\n',\n",
    "             color='blue',fontweight='bold',fontsize=26) \n",
    "\n",
    "# make plot pretty\n",
    "ax.set_xlabel('x label')  # add xlabel\n",
    "ax.set_ylabel('y label'); # add ylabel\n",
    "\n",
    "\n",
    "# select colots\n",
    "ax.plot(x,y,color='green', linestyle=':', label='line 1',linewidth = 2.5)\n",
    "ax.plot(x,y*2,color='orange', linestyle='--', label = 'line 2')\n",
    "ax.plot(x,y+4,color='black',marker='o', label = 'line 3')\n",
    "\n",
    "ax.legend(loc=4) # location of legend is an integer, \n",
    "# for text to be correct in the legend the plots need a label\n",
    "\n"
   ]
  },
  {
   "cell_type": "markdown",
   "metadata": {
    "slideshow": {
     "slide_type": "slide"
    }
   },
   "source": [
    "<hr style=\"border: 1px solid#0B0B0B;\" />\n",
    "\n",
    "### Customize **Legend & Axis Range**"
   ]
  },
  {
   "cell_type": "code",
   "execution_count": null,
   "metadata": {
    "slideshow": {
     "slide_type": "subslide"
    }
   },
   "outputs": [],
   "source": [
    "fig, ax = plt.subplots()\n",
    "\n",
    "# ax.plot() returns a line object that we can assign to variables\n",
    "# Note comma, in order to unpack tuple object\n",
    "\n",
    "l1, = ax.plot(x,y,color='green', linestyle=':', label='line 1',linewidth = 2.5) \n",
    "l2, = ax.plot(x,y*2,'y--', label = 'line 2')\n",
    "l3, = ax.plot(x,y+4,color='black', linestyle='--',marker='o', label = 'line 3')\n",
    "\n",
    "# Custom axis range\n",
    "ax.set_ylim(-6,8)\n",
    "ax.set_xlim(0,9)\n",
    "\n",
    "# Custom legend\n",
    "ax.legend(handles=[l1, l3], labels=['green vert', 'black dash dot'],\n",
    "              loc=[0.6,0.92],frameon=True,numpoints=3);"
   ]
  },
  {
   "cell_type": "markdown",
   "metadata": {
    "slideshow": {
     "slide_type": "slide"
    }
   },
   "source": [
    "<hr style=\"border: 1px solid#0B0B0B;\" />\n",
    "\n",
    "### Two Axes **Sharing x-Axis**, **Saving** & **Displaying Plots**"
   ]
  },
  {
   "cell_type": "code",
   "execution_count": null,
   "metadata": {
    "slideshow": {
     "slide_type": "skip"
    }
   },
   "outputs": [],
   "source": [
    "# Generate data\n",
    "x = np.linspace(0,2*np.pi,51)\n",
    "y1 = np.sin(x)\n",
    "y2 = 2*np.sin(x)**2"
   ]
  },
  {
   "cell_type": "code",
   "execution_count": null,
   "metadata": {
    "slideshow": {
     "slide_type": "subslide"
    }
   },
   "outputs": [],
   "source": [
    "# Create two subplots, on two rows with two axes ax1 and ax2\n",
    "f, (ax1, ax2) = plt.subplots(2, 1,sharex=True)\n",
    "\n",
    "#f, (ax1, ax2) = plt.subplots(1,2) # Would be vertical\n",
    "\n",
    "ax1.plot(x,y1)\n",
    "ax2.plot(x + np.pi,y2)\n",
    "# show ticks\n",
    "plt.xticks(np.linspace(0,3*np.pi,7),\n",
    "           ('0','$\\pi/2$','$\\pi$','$3\\pi/2$','$2\\pi$','$5\\pi/2$','$3\\pi$')); \n",
    "\n",
    "f.suptitle('Sharing x-axis'); # Title for both subplots"
   ]
  },
  {
   "cell_type": "code",
   "execution_count": null,
   "metadata": {
    "slideshow": {
     "slide_type": "subslide"
    }
   },
   "outputs": [],
   "source": [
    "# Save fig to desired path\n",
    "abs_path = '/home/ehch/SCET/Data-X/02c-tools-data-visualizations/data/'\n",
    "\n",
    "f.savefig(abs_path + 'abs_path_fig.png') # easy, png, svg, pdf, etc work\n",
    "f.savefig('data/rel_path_fig.svg')\n",
    "# it will take on the file format"
   ]
  },
  {
   "cell_type": "code",
   "execution_count": null,
   "metadata": {
    "slideshow": {
     "slide_type": "subslide"
    }
   },
   "outputs": [],
   "source": [
    "%ls # list files in your present working directory using magic keys"
   ]
  },
  {
   "cell_type": "markdown",
   "metadata": {
    "slideshow": {
     "slide_type": "slide"
    }
   },
   "source": [
    "<hr style=\"border: 1px solid#0B0B0B;\" />\n",
    "\n",
    "### **Display Images** Using IPython"
   ]
  },
  {
   "cell_type": "code",
   "execution_count": null,
   "metadata": {
    "scrolled": false,
    "slideshow": {
     "slide_type": "subslide"
    }
   },
   "outputs": [],
   "source": [
    "# display locally stored plot image\n",
    "from IPython.display import Image\n",
    "Image(filename='data/story_images/abs_path_fig.png')"
   ]
  },
  {
   "cell_type": "code",
   "execution_count": null,
   "metadata": {},
   "outputs": [],
   "source": [
    "# display RANDOM image file\n",
    "print(\"note that image is left alightned, and ou were not able to manipulate it at all -- consider using a <img> tag nested in a <div> or <span> tag\")\n",
    "Image(filename='data/story_images/example_image.jpg') "
   ]
  },
  {
   "cell_type": "code",
   "execution_count": null,
   "metadata": {
    "slideshow": {
     "slide_type": "subslide"
    }
   },
   "outputs": [],
   "source": [
    "# explore non-visual information in image\n",
    "print(type(img))\n",
    "print(dir(img))"
   ]
  },
  {
   "cell_type": "markdown",
   "metadata": {
    "slideshow": {
     "slide_type": "slide"
    }
   },
   "source": [
    "<hr style=\"border: 1px solid#0B0B0B;\" />\n",
    "\n",
    "### Adjusting **Opacity**, **Markers** & Add A **Color Bar**"
   ]
  },
  {
   "cell_type": "code",
   "execution_count": null,
   "metadata": {
    "slideshow": {
     "slide_type": "skip"
    }
   },
   "outputs": [],
   "source": [
    "# generate some data\n",
    "N=50\n",
    "\n",
    "x = np.random.randn(N)\n",
    "y = np.random.randn(N)\n",
    "colors = np.random.rand(N)\n",
    "sizes = N*10 * np.random.rand(100)\n",
    "\n",
    "cmap = mpl.cm.cool\n",
    "norm = mpl.colors.Normalize(vmin=5, vmax=10)"
   ]
  },
  {
   "cell_type": "code",
   "execution_count": null,
   "metadata": {
    "slideshow": {
     "slide_type": "subslide"
    }
   },
   "outputs": [],
   "source": [
    "# modify scatter plot\n",
    "plt.scatter(x, y, \n",
    "           c=colors,             # color sequence\n",
    "           s=sizes,              # size of markers\n",
    "           marker='o',           # marker type https://matplotlib.org/api/markers_api.html#module-matplotlib.markers\n",
    "           alpha=0.4,            # [0=tranparent, 1=opaque]\n",
    "           cmap=cmap             # colormapping\n",
    "          )\n",
    "\n",
    "# add a colorbar\n",
    "plt.colorbar(cmap=cmap,\n",
    "             norm=norm,\n",
    "             orientation='horizontal'\n",
    "            ); "
   ]
  },
  {
   "cell_type": "markdown",
   "metadata": {
    "slideshow": {
     "slide_type": "slide"
    }
   },
   "source": [
    "<hr style=\"border: 1px solid#0B0B0B;\" />\n",
    "\n",
    "### Change **Plot Styling**\n",
    "\n",
    "> Some common styles: [matplotlib style gallery](https://tonysyu.github.io/raw_content/matplotlib-style-gallery/gallery.html)"
   ]
  },
  {
   "cell_type": "code",
   "execution_count": null,
   "metadata": {
    "slideshow": {
     "slide_type": "subslide"
    }
   },
   "outputs": [],
   "source": [
    "# increase the figure size for all plots\n",
    "\n",
    "IPython_default = plt.rcParams.copy() # save default styling"
   ]
  },
  {
   "cell_type": "code",
   "execution_count": null,
   "metadata": {
    "slideshow": {
     "slide_type": "subslide"
    }
   },
   "outputs": [],
   "source": [
    "# one function to plot them all\n",
    "def hist_and_lines():\n",
    "    \"\"\"\n",
    "        Plots Histogram to The right of Line Plot\n",
    "    \"\"\"\n",
    "    np.random.seed(0)\n",
    "    fig, ax = plt.subplots(1, 3, figsize=(11, 4))\n",
    "    \n",
    "    # histrograms\n",
    "    ax[0].hist(np.random.randn(1000))\n",
    "\n",
    "    # scatter plots\n",
    "    for i in range(3):\n",
    "       ax[1].scatter(np.random.randn(100), np.random.randn(100)) \n",
    "    \n",
    "    # lines\n",
    "    for i in range(3):\n",
    "       ax[2].plot(np.random.randint(-5,10,50))\n",
    "    \n",
    "    # include legends\n",
    "    ax[1].legend(['a', 'b', 'c'], loc='upper left')\n",
    "    ax[2].legend(['a', 'b', 'c'], loc='lower left')"
   ]
  },
  {
   "cell_type": "code",
   "execution_count": null,
   "metadata": {
    "slideshow": {
     "slide_type": "subslide"
    }
   },
   "outputs": [],
   "source": [
    "### For R Lovers ###\n",
    "with plt.style.context('ggplot'):\n",
    "    hist_and_lines()\n",
    "    plt.title('ggplot');\n",
    "\n",
    "### For Nate Silver Fans ###\n",
    "with plt.style.context('fivethirtyeight'):\n",
    "    hist_and_lines()\n",
    "    plt.title('fivethirteight');\n",
    "\n",
    "### For Linux Kernel Developers ###\n",
    "with plt.style.context('dark_background'):\n",
    "    hist_and_lines()\n",
    "    plt.title('dark-background');\n",
    "\n",
    "### Alex's Prefered Scheme ###\n",
    "with plt.style.context('seaborn-white'): # classic MATLAB styling not that pretty\n",
    "    hist_and_lines()\n",
    "    plt.title('seaborn-white (alex favorite!)');"
   ]
  },
  {
   "cell_type": "code",
   "execution_count": null,
   "metadata": {
    "slideshow": {
     "slide_type": "subslide"
    }
   },
   "outputs": [],
   "source": [
    "# restore IPython to default\n",
    "\n",
    "plt.rcParams.update(IPython_default);"
   ]
  },
  {
   "cell_type": "code",
   "execution_count": null,
   "metadata": {},
   "outputs": [],
   "source": [
    "<hr style=\"border: 1px solid#0B0B0B;\" />\n",
    "\n",
    "### Matplotlib **3d Plot**\n",
    ">https://matplotlib.org/mpl_toolkits/mplot3d/tutorial.html"
   ]
  },
  {
   "cell_type": "code",
   "execution_count": null,
   "metadata": {},
   "outputs": [],
   "source": [
    "# Axes 3D needed to set projection='3d'\n",
    "from mpl_toolkits.mplot3d import Axes3D\n",
    "\n",
    "# set dimensions  of figure\n",
    "plt.rcParams['figure.figsize'] = [5, 5]\n",
    "\n",
    "fig = plt.figure()\n",
    "ax = fig.add_subplot(111, projection='3d')\n",
    "\n",
    "# Make data, spherical coordinates\n",
    "u = np.linspace(0, .5*np.pi, 100)\n",
    "v = np.linspace(0, 2*np.pi, 100)\n",
    "X = 10 * np.outer(np.cos(u), np.sin(v))\n",
    "Y = 10 * np.outer(np.sin(u), np.sin(v))\n",
    "Z = 10 * np.outer(np.ones(np.size(u)), np.cos(v))\n",
    "\n",
    "\n",
    "# Plot the surface\n",
    "ax.plot_surface(X, Y, Z,                 \n",
    "                rstride=1, \n",
    "                cstride=1,\n",
    "                cmap='cubehelix', \n",
    "                edgecolor='none',\n",
    "                alpha = 0.8\n",
    "               )\n",
    "\n",
    "# Countour projections\n",
    "cset = ax.contour(X, Y, Z, zdir='y', offset=5*np.pi, cmap=mpl.cm.cool)\n",
    "\n",
    "ax.set_title('Matplotlib 3D Surface');"
   ]
  },
  {
   "cell_type": "markdown",
   "metadata": {
    "slideshow": {
     "slide_type": "skip"
    }
   },
   "source": [
    "<!--Navigate back to table of contents-->\n",
    "<div alig=\"right\" style=\"text-align: right\">\n",
    "    <span>\n",
    "        <a style=\"color:#FFFFFF; background-color:#0D0D0D; border:1px solid #FFFFFF; border-color:#FFFFFF;border-radius:5px;border-width:0px;display:inline-block;font-family:arial,helvetica,sans-serif;font-size:10px;letter-spacing:0px;line-height:10px;padding:10px 20px;text-align:center;text-decoration:none; align:center\" href=\"#Part_table_contents\" name=\"Table of Contents\"  id=\"Part_table_contents\"> \n",
    "            Table of Contents \n",
    "        </a>\n",
    "    </span>\n",
    "</div>\n",
    "<!-------------------------------------->"
   ]
  },
  {
   "cell_type": "markdown",
   "metadata": {
    "slideshow": {
     "slide_type": "slide"
    }
   },
   "source": [
    "<a id='Part_3'></a>\n",
    "<hr style=\"border: 4px solid#0B0B0B;\" />\n",
    "\n",
    "#### PART 3\n",
    "\n",
    "<br>\n",
    "\n",
    "<div align=\"left\" style=\"font-size:32px; font-family:FreeMono; font-weight: 100; font-stretch:ultra-condensed; line-height: 1.0; color:#2A2C2B\">\n",
    "    <strong>PYTHON</strong><br>VISUALIZATIONS:<strong> SEABORN</strong>\n",
    "</div>\n",
    "\n",
    "<br>\n",
    "\n",
    "<br>\n",
    "\n",
    "**General Information**\n",
    "\n",
    "##### **[1. Install Seaborn ](#Part_3_1)** \n",
    "https://seaborn.pydata.org/installing.html\n",
    "\n",
    "##### **[2. Seaborn Theme Design ](#Part_3_2)** \n",
    "https://python-graph-gallery.com/104-seaborn-themes/\n",
    "\n",
    "##### **[3. Seaborn Color ](#Part_3_3)** \n",
    "https://seaborn.pydata.org/tutorial/color_palettes.html"
   ]
  },
  {
   "cell_type": "markdown",
   "metadata": {
    "slideshow": {
     "slide_type": "subslide"
    }
   },
   "source": [
    "<a id='Part_3_1'></a>\n",
    "<hr style=\"border: 2px solid#0B0B0B;\" />\n",
    "\n",
    "### **3.1 Install Seaborn**\n",
    "\n",
    "**Note:** Anaconda does not come with seaborn, please install it in your virtual environment by running:\n",
    "```bash\n",
    "conda intall seaborn # in terminal\n",
    "```\n",
    "OR\n",
    "```python\n",
    "! pip install seaborn # with python and magic keys\n",
    "```\n",
    "\n",
    "\n",
    "- **seaborn:** Mostly used for statistical plotting, and better graphics. \n",
    "- **pandas:** Mostly used for quick plotting of DataFrames and time series"
   ]
  },
  {
   "cell_type": "markdown",
   "metadata": {
    "slideshow": {
     "slide_type": "subslide"
    }
   },
   "source": [
    "___\n",
    "\n",
    "**Seaborn** is a Python data visualization library based on matplotlib. It provides a high-level interface for drawing attractive and informative statistical graphics.\n",
    "\n",
    "The following visualizations are executed using the famous Iris Flower data set. \n",
    "\n",
    "> For more info on the Iris dataset: https://en.wikipedia.org/wiki/Iris_flower_data_set#cite_note-GorbanZinovyev2010-4\n",
    "\n",
    "> For more info on plotting categorical variables with Seaborn: https://seaborn.pydata.org/tutorial/categorical.html"
   ]
  },
  {
   "cell_type": "code",
   "execution_count": null,
   "metadata": {
    "slideshow": {
     "slide_type": "subslide"
    }
   },
   "outputs": [],
   "source": [
    "from mpl_toolkits.mplot3d import Axes3D\n",
    "from sklearn.decomposition import PCA\n",
    "from sklearn import datasets\n",
    "import seaborn as sns\n",
    "import pandas as pd"
   ]
  },
  {
   "cell_type": "code",
   "execution_count": null,
   "metadata": {
    "slideshow": {
     "slide_type": "subslide"
    }
   },
   "outputs": [],
   "source": [
    "# Load Dataframe from Seaborn\n",
    "df = sns.load_dataset(\"iris\") # load classic ML dataset\n",
    "df.head()"
   ]
  },
  {
   "cell_type": "code",
   "execution_count": null,
   "metadata": {
    "slideshow": {
     "slide_type": "subslide"
    }
   },
   "outputs": [],
   "source": [
    "# \"Melt\" the dataset to \"long-form\" or \"tidy\" representation\n",
    "iris = pd.melt(df, \"species\", var_name=\"measurement\")\n",
    "iris.head()\n",
    "\n",
    "# melt turns one or more columns are identifier variables (id_vars), \n",
    "# while all other columns, are considered measured variables (value_vars)\n",
    "# https://pandas.pydata.org/pandas-docs/version/0.23/generated/pandas.melt.html"
   ]
  },
  {
   "cell_type": "markdown",
   "metadata": {
    "slideshow": {
     "slide_type": "skip"
    }
   },
   "source": [
    "<!--Navigate back to table of contents-->\n",
    "<div alig=\"right\" style=\"text-align: right\">\n",
    "    <span>\n",
    "        <a style=\"color:#FFFFFF; background-color:#0D0D0D; border:1px solid #FFFFFF; border-color:#FFFFFF;border-radius:5px;border-width:0px;display:inline-block;font-family:arial,helvetica,sans-serif;font-size:10px;letter-spacing:0px;line-height:10px;padding:10px 20px;text-align:center;text-decoration:none; align:center\" href=\"#Part_table_contents\" name=\"Table of Contents\"  id=\"Part_table_contents\"> \n",
    "            Table of Contents \n",
    "        </a>\n",
    "    </span>\n",
    "</div>\n",
    "<!-------------------------------------->"
   ]
  },
  {
   "cell_type": "markdown",
   "metadata": {
    "slideshow": {
     "slide_type": "slide"
    }
   },
   "source": [
    "<a id='Part_3_2'></a>\n",
    "<hr style=\"border: 2px solid#0B0B0B;\" />\n",
    "\n",
    "### **3.2 Seaborn Theme-Design (Styling)**\n",
    "\n",
    "Seaborn has **five built-in themes** to style the figure (i.e. the **background** of plots). \n",
    "\n",
    "> **Grids:** `darkgrid`, `whitegrid`.\n",
    "\n",
    "> **Colors:** `dark`, `white`, and `ticks`."
   ]
  },
  {
   "cell_type": "markdown",
   "metadata": {
    "slideshow": {
     "slide_type": "skip"
    }
   },
   "source": [
    "___\n",
    "Baseline using dataframe"
   ]
  },
  {
   "cell_type": "code",
   "execution_count": null,
   "metadata": {
    "slideshow": {
     "slide_type": "subslide"
    }
   },
   "outputs": [],
   "source": [
    "# categorical plot using pandas dataframe\n",
    "df.plot();\n",
    "\n",
    "# Note: other types of categorical variables are possible, but have further requirements\n",
    "# https://pandas.pydata.org/pandas-docs/stable/reference/api/pandas.DataFrame.plot.html"
   ]
  },
  {
   "cell_type": "markdown",
   "metadata": {
    "slideshow": {
     "slide_type": "slide"
    }
   },
   "source": [
    "<hr style=\"border: 1px solid#0B0B0B;\" />\n",
    "\n",
    "### Set Style"
   ]
  },
  {
   "cell_type": "code",
   "execution_count": null,
   "metadata": {
    "slideshow": {
     "slide_type": "subslide"
    }
   },
   "outputs": [],
   "source": [
    "# set style locally\n",
    "sns.set_style(style=\"whitegrid\")\n",
    "\n",
    "# plot categorical data\n",
    "sns.catplot(data=df,       # dataframe\n",
    "            kind='boxen',  # “point”, “bar”, “strip”, “swarm”, “box”, “violin”, or “boxen\n",
    "            height=5,      # height of each facet\n",
    "            aspect=1.2);   # width of each facet "
   ]
  },
  {
   "cell_type": "code",
   "execution_count": null,
   "metadata": {
    "slideshow": {
     "slide_type": "subslide"
    }
   },
   "outputs": [],
   "source": [
    "# Now with a swarmplot using  melted dataframe\n",
    "sns.set_style(style=\"dark\")\n",
    "\n",
    "sns.swarmplot(x=\"measurement\", \n",
    "              y=\"value\",       #\n",
    "              hue=\"species\",   # requires x,y\n",
    "              data=iris);      # melted dataframe\n"
   ]
  },
  {
   "cell_type": "markdown",
   "metadata": {
    "slideshow": {
     "slide_type": "subslide"
    }
   },
   "source": [
    "<hr style=\"border: 1px solid#0B0B0B;\" />\n",
    "\n",
    "### Set Scaling\n",
    "\n",
    "There are **four scaling plot presets** which allow you to set the size of the plot and allow you to customize your figure depending on how it will be presented.\n",
    "\n",
    "> In order of relative size they are: `paper`, `notebook`, `talk`, and `poster`. \n",
    "\n",
    "> The `notebook` relative size is the default\n",
    "\n",
    "> **Local context** is set using `sns.set_context(*args)`"
   ]
  },
  {
   "cell_type": "code",
   "execution_count": null,
   "metadata": {
    "slideshow": {
     "slide_type": "subslide"
    }
   },
   "outputs": [],
   "source": [
    "# style\n",
    "sns.set_style(\"ticks\")\n",
    "\n",
    "# smallest context\n",
    "sns.set_context(\"paper\")\n",
    "\n",
    "#lineplots\n",
    "sns.lineplot(x=\"measurement\", \n",
    "             y=\"value\",                    \n",
    "             hue=\"species\",   # requires x,y\n",
    "             data=iris);"
   ]
  },
  {
   "cell_type": "markdown",
   "metadata": {
    "slideshow": {
     "slide_type": "slide"
    }
   },
   "source": [
    "<hr style=\"border: 1px solid#0B0B0B;\" />\n",
    "\n",
    "### Scaling Fonts and Line Widths\n",
    "\n",
    "You are able to change the size of the text using the `font_scale` parameter for `sns.set_context()`\n",
    "\n",
    "You can also change the line width. This is accomplished with the `rc` parameter for `sns.set_context()`.\n"
   ]
  },
  {
   "cell_type": "code",
   "execution_count": null,
   "metadata": {
    "slideshow": {
     "slide_type": "subslide"
    }
   },
   "outputs": [],
   "source": [
    "# set style\n",
    "sns.set_style(\"darkgrid\")\n",
    "\n",
    "# Set font scale and increase grid line width to match\n",
    "sns.set_context(\"paper\", font_scale = 1, rc={\"grid.linewidth\": 5})\n",
    "\n",
    "# Tweak the visual presentation\n",
    "ax.xaxis.grid(True)\n",
    "ax.set(ylabel=\"\")\n",
    "sns.despine(trim=True, left=True)\n",
    "\n",
    "# Plot boxplots\n",
    "sns.boxplot(x=\"measurement\", \n",
    "            y=\"value\",                    \n",
    "            hue=\"species\",   # requires x,y\n",
    "            data=iris,\n",
    "            whis=\"range\", \n",
    "            palette=\"vlag\");\n",
    "\n",
    "# Add swarmplot\n",
    "sns.swarmplot(x=\"measurement\", \n",
    "              y=\"value\",\n",
    "              data=iris,\n",
    "              size=2, \n",
    "              color=\".3\", \n",
    "              linewidth=0)"
   ]
  },
  {
   "cell_type": "code",
   "execution_count": null,
   "metadata": {
    "slideshow": {
     "slide_type": "subslide"
    }
   },
   "outputs": [],
   "source": [
    "# set seaborn figure style to default\n",
    "sns.set()\n",
    "\n",
    "# what else can I change in the context?\n",
    "print('sns.set_context(rc=\\n' + str(sns.plotting_context()) + '\\n)')"
   ]
  },
  {
   "cell_type": "markdown",
   "metadata": {
    "slideshow": {
     "slide_type": "skip"
    }
   },
   "source": [
    "<!--Navigate back to table of contents-->\n",
    "<div alig=\"right\" style=\"text-align: right\">\n",
    "    <span>\n",
    "        <a style=\"color:#FFFFFF; background-color:#0D0D0D; border:1px solid #FFFFFF; border-color:#FFFFFF;border-radius:5px;border-width:0px;display:inline-block;font-family:arial,helvetica,sans-serif;font-size:10px;letter-spacing:0px;line-height:10px;padding:10px 20px;text-align:center;text-decoration:none; align:center\" href=\"#Part_table_contents\" name=\"Table of Contents\"  id=\"Part_table_contents\"> \n",
    "            Table of Contents \n",
    "        </a>\n",
    "    </span>\n",
    "</div>\n",
    "<!-------------------------------------->"
   ]
  },
  {
   "cell_type": "markdown",
   "metadata": {
    "slideshow": {
     "slide_type": "slide"
    }
   },
   "source": [
    "<a id='Part_3_3'></a>\n",
    "<hr style=\"border: 2px solid#0B0B0B;\" />\n",
    "\n",
    "### **3.3 Seaborn Color (Styling)**\n",
    "\n",
    "Seaborn is known for its vibrant and beautiful color palettes. There are **three ways of selecting a pallete**. \n",
    "\n",
    "> **Seaborn default and built-in color palettes**\n",
    "\n",
    "> **Color Brewer Palettes**\n",
    "\n",
    "> **Create Your Own**\n",
    "- This is an intersting exercise, as Seaborn is very perticular about the number of elements used. The exercise will teach you a lot about how matplotli/seaborn/plotly error check and process color arrays. To get you started, a hint: you need at least two colors, and they must be passed as a list. \n"
   ]
  },
  {
   "cell_type": "markdown",
   "metadata": {
    "slideshow": {
     "slide_type": "subslide"
    }
   },
   "source": [
    "<hr style=\"border: 1px solid#0B0B0B;\" />\n",
    "\n",
    "### Seaborn Default Color Palettes\n",
    "\n",
    "Seaborn has six variations of its default color palette: `deep`, `muted`, `pastel`, `bright`, `dark`, and `colorblind`.\n",
    "\n",
    "<div align=\"center\">\n",
    "    <img src= \"/data/story_images/02c_Visualiation_lecture_default_palette.svg\" align=\"center\" width='600px'>\n",
    "</div>\n",
    "\n",
    "    \n",
    "> To uses a color palette use `sns.color_palette()` or `sns.set_palette()`, for individual plots.\n",
    "\n",
    "> To set a color palette for all plots use `sns.set(*args)`.\n",
    "\n",
    "> > **Note:** Due to the linear flow of execution within Jupyter's cell, the order you give to your code matters. Modifying the aesthetics of your _figure_ (e.g. using `sns.set()` ) after your plotting calls will require you to run the cell twice in order to observe the desired design/color changes. "
   ]
  },
  {
   "cell_type": "code",
   "execution_count": null,
   "metadata": {
    "slideshow": {
     "slide_type": "subslide"
    }
   },
   "outputs": [],
   "source": [
    "# set palette\n",
    "sns.color_palette('dark')\n",
    "\n",
    "# set style\n",
    "sns.set_style('whitegrid')\n",
    "\n",
    "# initialize a facetgrid object\n",
    "g = sns.FacetGrid(df, col='species', hue='species', col_wrap=4)\n",
    "g.map(sns.regplot, 'sepal_length', 'sepal_width');\n",
    "\n"
   ]
  },
  {
   "cell_type": "code",
   "execution_count": null,
   "metadata": {
    "slideshow": {
     "slide_type": "subslide"
    }
   },
   "outputs": [],
   "source": [
    "# set palette\n",
    "sns.set_palette('bright')\n",
    "\n",
    "# set style\n",
    "sns.set_style(\"ticks\")\n",
    "\n",
    "# Set font scale and increase grid line width to match\n",
    "sns.set_context(\"paper\", font_scale = 1, rc={\"grid.linewidth\": 1})\n",
    "\n",
    "# select color palette\n",
    "strip_palette = sns.color_palette(\"ch:2,r=.2,l=.6\")\n",
    "#or using cubehelix_palette\n",
    "#strip_palette= sns.cubehelix_palette(rot=-.5)\n",
    "\n",
    "flowers = df.groupby(['sepal_width', 'petal_width']).mean().sort_index().reset_index()\n",
    "\n",
    "# side by side plots\n",
    "g = sns.PairGrid(flowers, \n",
    "                 x_vars=flowers.columns[2:], \n",
    "                 y_vars=['sepal_width', 'petal_width'],\n",
    "                 height=4, \n",
    "                 aspect=.85)\n",
    "\n",
    "g.map(sns.stripplot, orient=\"h\", size=10, palette=strip_palette);\n",
    "\n"
   ]
  },
  {
   "cell_type": "markdown",
   "metadata": {
    "slideshow": {
     "slide_type": "slide"
    }
   },
   "source": [
    "<hr style=\"border: 1px solid#0B0B0B;\" />\n",
    "\n",
    "### Color Brewer Palettes\n",
    "\n",
    "**Color Brewer** is the name of a set of color palettes inspired by the research of cartographer **Cindy Brewer**. These color palettes are specifically chosen as to be easy to interpret when used to represent ordered categories. They are also colorblind accessible, as each color differs from its neighbors in lightness or tint.\n",
    "\n",
    "\n",
    "<div align=\"center\">\n",
    "    <img src= \"/data/story_images/02c_Visualiation_seaborn_brewer_palletes.svg\" align=\"center\" width='1200px'>\n",
    "    <br> <\\br>\n",
    "    <a href=\"https://seaborn.pydata.org/tutorial/color_palettes.html\"><h3>Brewer Color Palettes</h3></a> \n",
    "</div>\n",
    "\n",
    "<br>\n",
    "\n",
    "> To set a color palette use `sns.color_palette()` or `sns.set_palette()`, for individual plots.\n",
    "\n",
    "> To set a color palette for all plots use `sns.set(*args)`.\n",
    "\n",
    "> > **Note:** To ensure proper display of your aesthetic changes, we can us pythonic code to clarify the execution. See next cell (Conditional Means with Observations) for details."
   ]
  },
  {
   "cell_type": "markdown",
   "metadata": {
    "slideshow": {
     "slide_type": "subslide"
    }
   },
   "source": [
    "<hr style=\"border: 1px solid#0B0B0B;\" />\n",
    "\n",
    "#### Conditional Means with Observations"
   ]
  },
  {
   "cell_type": "code",
   "execution_count": null,
   "metadata": {
    "slideshow": {
     "slide_type": "subslide"
    }
   },
   "outputs": [],
   "source": [
    "\n",
    "##------- 1. Set desired figure -------##\n",
    "# set style, brewer palette, and context for all plots (recall sns.set(*args) adjusts global variables)\n",
    "sns.set(context = \"paper\",\n",
    "        style = \"whitegrid\",\n",
    "        palette = \"Blues_d\",\n",
    "        font_scale=1.0,\n",
    "        rc={\"grid.linewidth\": 1}\n",
    "       );\n",
    "\n",
    "# remove x,y axis\n",
    "sns.despine(bottom=True, left=True)\n",
    "##-------------------------------------##\n",
    "\n",
    "\n",
    "\n",
    "##------- 2. Plot Figure and Axes------##\n",
    "# Initialize the figure\n",
    "f, ax = plt.subplots()\n",
    "\n",
    "# Show each observation with a scatterplot\n",
    "sns.stripplot(x=\"value\", y=\"measurement\", hue=\"species\",\n",
    "              data=iris, dodge=True, jitter=True,\n",
    "              alpha=.35, zorder=1)\n",
    "\n",
    "# Show the conditional means\n",
    "sns.pointplot(x=\"value\", y=\"measurement\", hue=\"species\",\n",
    "              data=iris, dodge=.532, join=False, palette=\"Blues_d\",\n",
    "              markers=\"d\", scale=.85, ci=None)\n",
    "##-------------------------------------##\n",
    "\n",
    "\n",
    "\n",
    "##-------- 3. Set Desired Axes --------##\n",
    "# Improve the legend \n",
    "handles, labels = ax.get_legend_handles_labels()\n",
    "\n",
    "# make legend \n",
    "ax.legend(handles[3:],labels[3:], title=\"species\",\n",
    "          handletextpad=1, columnspacing=7,\n",
    "          loc=\"best\", ncol=1, frameon=True);\n",
    "##-------------------------------------##"
   ]
  },
  {
   "cell_type": "markdown",
   "metadata": {
    "slideshow": {
     "slide_type": "slide"
    }
   },
   "source": [
    "<hr style=\"border: 1px solid#0B0B0B;\" />\n",
    "\n",
    "#### Pairwise Relationships"
   ]
  },
  {
   "cell_type": "code",
   "execution_count": null,
   "metadata": {
    "slideshow": {
     "slide_type": "subslide"
    }
   },
   "outputs": [],
   "source": [
    "# initialize pairgrid object and set design and color\n",
    "g = sns.PairGrid(data=df,\n",
    "                 hue='species',\n",
    "                 palette = sns.color_palette(\"GnBu_d\", 4), \n",
    "                 height=2.0,\n",
    "                 aspect=2.5,\n",
    "                 despine=False)\n",
    "\n",
    "# set order of plots\n",
    "g.map_upper(plt.scatter, edgecolor=\"w\", s=40)\n",
    "g.map_lower(sns.kdeplot, cmap=\"Blues_d\")\n",
    "g.map_diag(sns.kdeplot, lw=3, legend=False);\n"
   ]
  },
  {
   "cell_type": "code",
   "execution_count": null,
   "metadata": {
    "slideshow": {
     "slide_type": "subslide"
    }
   },
   "outputs": [],
   "source": [
    "# set a new default style for all plots (to see the difference it makes, rerun the cell immediatelly above)\n",
    "sns.set(style='white')"
   ]
  },
  {
   "cell_type": "markdown",
   "metadata": {},
   "source": [
    "<hr style=\"border: 5px solid#1f77b4;\" />\n",
    "\n",
    "### Still don't know which Color Brewer palette to use?\n",
    "\n",
    "```python\n",
    "sns.choose_colorbrewer_palette(data_type, as_cmap=False)\n",
    "```\n",
    "\n",
    "Helps you select a palette from the ColorBrewer set.\n",
    "\n",
    "\n",
    "**Parameters** \n",
    "\n",
    "> `data_type : {‘sequential’, ‘diverging’, ‘qualitative’}`\n",
    "Describes the kind of data you want to visualize. Note that you can pass substrings (e.g. ‘q’ for ‘qualitative').\n",
    "                                                                                     \n",
    "> `as_cmap : bool`\n",
    "If True, the return value is a matplotlib colormap rather than a list of discrete colors.\n",
    "\n",
    "**Returns**\n",
    "`pal` or `cmap` object (a list of colors or matplotlib colormap) that can be passed to plotting functions."
   ]
  },
  {
   "cell_type": "code",
   "execution_count": 23,
   "metadata": {},
   "outputs": [],
   "source": [
    "# load seaborn\n",
    "import seaborn as sns"
   ]
  },
  {
   "cell_type": "markdown",
   "metadata": {},
   "source": [
    "\n",
    "\n",
    "<br>\n",
    "\n",
    "</br>\n",
    "\n",
    "**To ensure proper functionality (widget behavior), execute the following commands in a terminal:**\n",
    "    \n",
    "```python\n",
    "    conda install ipywidgets nodejs                                  # install ipywidgets and nodejs\n",
    "    \n",
    "    jupyter nbextension enable --py widgetsnbextension               # enable widgets\n",
    "    \n",
    "    jupyter labextension install @jupyter-widgets/jupyterlab-manager # ensure it works in jupyter lab\n",
    "```"
   ]
  },
  {
   "cell_type": "code",
   "execution_count": null,
   "metadata": {
    "slideshow": {
     "slide_type": "subslide"
    }
   },
   "outputs": [],
   "source": [
    "### uncomment widgets to see what they do ###\n",
    "\n",
    "#sns.choose_colorbrewer_palette('sequential', as_cmap=False);\n",
    "#sns.choose_colorbrewer_palette('diverging', as_cmap=True);\n",
    "sns.choose_colorbrewer_palette('qualitative', as_cmap=False);"
   ]
  },
  {
   "cell_type": "markdown",
   "metadata": {},
   "source": [
    "<!--Navigate back to table of contents-->\n",
    "<div alig=\"right\" style=\"text-align: right\">\n",
    "    <span>\n",
    "        <a style=\"color:#FFFFFF; background-color:#0D0D0D; border:1px solid #FFFFFF; border-color:#FFFFFF;border-radius:5px;border-width:0px;display:inline-block;font-family:arial,helvetica,sans-serif;font-size:10px;letter-spacing:0px;line-height:10px;padding:10px 20px;text-align:center;text-decoration:none; align:center\" href=\"#Part_table_contents\" name=\"Table of Contents\"  id=\"Part_table_contents\"> \n",
    "            Table of Contents \n",
    "        </a>\n",
    "    </span>\n",
    "</div>\n",
    "\n",
    "<!-------------------------------------->\n",
    "<hr style=\"border: 5px solid#1f77b4;\" />"
   ]
  },
  {
   "cell_type": "markdown",
   "metadata": {
    "slideshow": {
     "slide_type": "slide"
    }
   },
   "source": [
    "<hr style=\"border: 2px solid#0B0B0B;\" />\n",
    "\n",
    "### Multivariate Visualizations\n",
    "\n",
    "\n",
    ">**Andrews Curves** uses attributes of samples as coefficients for Fourier series. They are a way of visisualizing high-dimensional data. \n",
    "https://en.wikipedia.org/wiki/Andrews_plot\n",
    "\n",
    ">**Parallel Coordinates** plots each feature on a separate column & then draws lines connecting the features for each data sample.\n",
    "https://en.wikipedia.org/wiki/Parallel_coordinates\n",
    "\n",
    ">**Radviz** puts each feature as a point on a 2D plane, and then simulates having each sample attached to those points through a spring weighted by the relative value for that feature.\n",
    "http://www.cs.middlebury.edu/~bwbrown/cs465/radviz/radviz_html_page.html"
   ]
  },
  {
   "cell_type": "code",
   "execution_count": null,
   "metadata": {
    "slideshow": {
     "slide_type": "skip"
    }
   },
   "outputs": [],
   "source": [
    "# Build a dataframe from sklearn dataset\n",
    "iris_df = datasets.load_iris()\n",
    "\n",
    "# prepare dataframe for modeling\n",
    "df_mv = pd.DataFrame(iris_df.data, columns=iris_df.feature_names)\n",
    "df_mv['target']=iris_df.target\n",
    "df_mv['species'] = df_mv['target'].map({0:iris_df.target_names[0],1:iris_df.target_names[1],2:iris_df.target_names[2]})\n",
    "\n",
    "# prepare figure for plotting\n",
    "# set design and color \n",
    "cmap = sns.cubehelix_palette(rot=-.2, as_cmap=True)\n",
    "sns.set(context = \"paper\",\n",
    "        style = \"dark\",\n",
    "        font_scale=1.0,\n",
    "       );\n",
    "\n",
    "# sanity check\n",
    "df_mv.head()"
   ]
  },
  {
   "cell_type": "markdown",
   "metadata": {
    "slideshow": {
     "slide_type": "skip"
    }
   },
   "source": [
    "___\n",
    "#### Andrews Curves"
   ]
  },
  {
   "cell_type": "code",
   "execution_count": null,
   "metadata": {
    "slideshow": {
     "slide_type": "skip"
    }
   },
   "outputs": [],
   "source": [
    "### Andrews Curves ###\n",
    "from pandas.plotting import andrews_curves\n",
    "\n",
    "# Tweak the visual presentation of the Axes and Artists\n",
    "ax.xaxis.grid(True)\n",
    "ax.set(ylabel=\"\")\n",
    "sns.despine(trim=True, left=True)\n",
    "\n",
    "andrews_curves(df_mv.drop(\"target\", axis=1), \n",
    "               class_column=\"species\",\n",
    "               colormap = cmap);\n"
   ]
  },
  {
   "cell_type": "markdown",
   "metadata": {
    "slideshow": {
     "slide_type": "skip"
    }
   },
   "source": [
    "___\n",
    "#### Parallel Coordinates"
   ]
  },
  {
   "cell_type": "code",
   "execution_count": null,
   "metadata": {
    "slideshow": {
     "slide_type": "skip"
    }
   },
   "outputs": [],
   "source": [
    "### Parallel Coordinates ###\n",
    "from pandas.plotting import parallel_coordinates\n",
    "\n",
    "# Tweak the visual presentation\n",
    "sns.set_style(\"white\")\n",
    "ax.yaxis.grid(True)\n",
    "\n",
    "parallel_coordinates(df_mv.drop(\"target\", axis=1), \n",
    "                     class_column=\"species\",\n",
    "                     colormap = cmap);\n",
    "\n"
   ]
  },
  {
   "cell_type": "markdown",
   "metadata": {
    "slideshow": {
     "slide_type": "subslide"
    }
   },
   "source": [
    "___\n",
    "#### RADVIZ"
   ]
  },
  {
   "cell_type": "code",
   "execution_count": null,
   "metadata": {
    "slideshow": {
     "slide_type": "subslide"
    }
   },
   "outputs": [],
   "source": [
    "### RADVIZ ###\n",
    "from pandas.plotting import radviz\n",
    "\n",
    "\n",
    "# Tweak the visual presentation\n",
    "sns.set_style(style=\"dark\")\n",
    "ax.xaxis.grid(False)\n",
    "ax.set(ylabel=\"\")\n",
    "sns.despine(trim=True, left=True)\n",
    "\n",
    "# plot\n",
    "radviz(df_mv.drop(\"target\", axis=1), \n",
    "       class_column=\"species\",\n",
    "       colormap = cmap\n",
    "      );\n"
   ]
  },
  {
   "cell_type": "markdown",
   "metadata": {
    "slideshow": {
     "slide_type": "slide"
    }
   },
   "source": [
    "<a id='Appendix_I'></a>\n",
    "<hr style=\"border: 8px solid#0B0B0B;\" />\n",
    "\n",
    "#### APPENDIX I\n",
    "\n",
    "<br>\n",
    "\n",
    "\n",
    "<div align=\"left\" style=\"font-size:32px; font-family:FreeMono; font-weight: 100; font-stretch:ultra-condensed; line-height: 1.0; color:#2A2C2B\">\n",
    "    <strong>REFERENCES</strong><br> AND ADDITIONAL<strong> RESOURCES</strong>\n",
    "</div>\n",
    "\n",
    "\n",
    "<br>\n",
    "\n",
    "<br>\n",
    "\n",
    "\n",
    "> * **Slide Presentations Within Jupyter Using RISE:** https://pypi.org/project/rise/\n",
    "\n",
    "> * **IPython Display and Outputs:** https://nbviewer.jupyter.org/github/ipython/ipython/blob/38fd9b71f62c6c726871875d3bacfbdb4ffba13c/examples/IPython%20Kernel/Rich%20Output.ipynb#Audio\n",
    "\n",
    "> * **Matplotlib Tutorial by Nicolas P. Rougier:** https://www.labri.fr/perso/nrougier/teaching/matplotlib/\n",
    "\n",
    "> * **Advanced Customization of Subplots using GridSpec:** https://matplotlib.org/users/gridspec.html\n",
    "\n",
    "> * **Stanford's Data Visualization Techniques:** https://magrawala.github.io/cs448b-fa18/\n",
    "\n",
    "> * **Data Driven Visual Story Telling - Edward Tufte:** https://www.edwardtufte.com/tufte/\n",
    "\n",
    "> * **Effective Data Visualization for Sceintific Purposes:** https://www.sciencedirect.com/science/article/pii/S1364815210003270#fig1\n",
    "\n",
    "\n",
    "<br>\n",
    "\n",
    "<!--Navigate back to table of contents-->\n",
    "<div alig=\"right\" style=\"text-align: right\">\n",
    "    <span>\n",
    "        <a style=\"color:#FFFFFF; background-color:#0D0D0D; border:1px solid #FFFFFF; border-color:#FFFFFF;border-radius:5px;border-width:0px;display:inline-block;font-family:arial,helvetica,sans-serif;font-size:10px;letter-spacing:0px;line-height:10px;padding:10px 20px;text-align:center;text-decoration:none; align:center\" href=\"#Part_table_contents\" name=\"Table of Contents\"  id=\"Part_table_contents\"> \n",
    "            Table of Contents \n",
    "        </a>\n",
    "    </span>\n",
    "</div>\n",
    "<!-------------------------------------->"
   ]
  },
  {
   "cell_type": "markdown",
   "metadata": {
    "slideshow": {
     "slide_type": "slide"
    }
   },
   "source": [
    "<a id='Appendix_II'></a>\n",
    "<hr style=\"border: 4px solid#0B0B0B;\" />\n",
    "\n",
    "#### APPENDIX II\n",
    "\n",
    "<br>\n",
    "\n",
    "<div align=\"left\" style=\"font-size:32px; font-family:FreeMono; font-weight: 100; font-stretch:ultra-condensed; line-height: 1.0; color:#2A2C2B\">\n",
    "    <strong>GALLERY OF</strong><br> VISUALIZATIONS AND<strong><br> ADDITIONAL RESOURCES</strong>\n",
    "</div>\n",
    "\n",
    "\n",
    "<br>\n",
    "\n",
    "<br>"
   ]
  },
  {
   "cell_type": "markdown",
   "metadata": {
    "slideshow": {
     "slide_type": "subslide"
    }
   },
   "source": [
    "<hr style=\"border: 1px solid#0B0B0B;\" />\n",
    "\n",
    "### Visualization Searchtree\n",
    "\n",
    "<div align=\"center\">\n",
    "    <img src= \"/data/story_images/what_would_you_like_to_show.png\" align=\"center\" width='40%'>\n",
    "</div>\n"
   ]
  },
  {
   "cell_type": "markdown",
   "metadata": {
    "slideshow": {
     "slide_type": "skip"
    }
   },
   "source": [
    "<!--Navigate back to table of contents-->\n",
    "<div alig=\"right\" style=\"text-align: right\">\n",
    "    <span>\n",
    "        <a style=\"color:#FFFFFF; background-color:#0D0D0D; border:1px solid #FFFFFF; border-color:#FFFFFF;border-radius:5px;border-width:0px;display:inline-block;font-family:arial,helvetica,sans-serif;font-size:10px;letter-spacing:0px;line-height:10px;padding:10px 20px;text-align:center;text-decoration:none; align:center\" href=\"#Part_table_contents\" name=\"Table of Contents\"  id=\"Part_table_contents\"> \n",
    "            Table of Contents \n",
    "        </a>\n",
    "    </span>\n",
    "</div>\n",
    "<!-------------------------------------->"
   ]
  },
  {
   "cell_type": "markdown",
   "metadata": {
    "slideshow": {
     "slide_type": "skip"
    }
   },
   "source": [
    "<hr style=\"border: 1px solid#0B0B0B;\" />\n",
    "\n",
    "### Visual Storytelling Guidelines"
   ]
  },
  {
   "cell_type": "code",
   "execution_count": 24,
   "metadata": {
    "slideshow": {
     "slide_type": "skip"
    }
   },
   "outputs": [
    {
     "data": {
      "text/html": [
       "<div style=\"text-align: center\"><iframe width=\"60%\" height=\"500\" src=\"https://www.columnfivemedia.com/25-tips-to-upgrade-your-data-visualization-design\" frameborder=\"0\" allow=\"accelerometer; autoplay; encrypted-media; gyroscope; picture-in-picture\" allowfullscreen></iframe></div>"
      ],
      "text/plain": [
       "<IPython.core.display.HTML object>"
      ]
     },
     "execution_count": 24,
     "metadata": {},
     "output_type": "execute_result"
    }
   ],
   "source": [
    "### VISUAL STORY TELLING ###\n",
    "from IPython.display import HTML\n",
    "HTML('<div style=\"text-align: center\"><iframe width=\"60%\" height=\"500\" src=\"https://www.columnfivemedia.com/25-tips-to-upgrade-your-data-visualization-design\" frameborder=\"0\" allow=\"accelerometer; autoplay; encrypted-media; gyroscope; picture-in-picture\" allowfullscreen></iframe></div>')\n"
   ]
  },
  {
   "cell_type": "markdown",
   "metadata": {
    "slideshow": {
     "slide_type": "skip"
    }
   },
   "source": [
    "<!--Navigate back to table of contents-->\n",
    "<div alig=\"right\" style=\"text-align: right\">\n",
    "    <span>\n",
    "        <a style=\"color:#FFFFFF; background-color:#0D0D0D; border:1px solid #FFFFFF; border-color:#FFFFFF;border-radius:5px;border-width:0px;display:inline-block;font-family:arial,helvetica,sans-serif;font-size:10px;letter-spacing:0px;line-height:10px;padding:10px 20px;text-align:center;text-decoration:none; align:center\" href=\"#Part_table_contents\" name=\"Table of Contents\"  id=\"Part_table_contents\"> \n",
    "            Table of Contents \n",
    "        </a>\n",
    "    </span>\n",
    "</div>\n",
    "<!-------------------------------------->"
   ]
  },
  {
   "cell_type": "markdown",
   "metadata": {
    "slideshow": {
     "slide_type": "skip"
    }
   },
   "source": [
    "<hr style=\"border: 1px solid#0B0B0B;\" />\n",
    "\n",
    "### Matplotlib Galleries"
   ]
  },
  {
   "cell_type": "code",
   "execution_count": 25,
   "metadata": {
    "slideshow": {
     "slide_type": "skip"
    }
   },
   "outputs": [
    {
     "data": {
      "text/html": [
       "<div style=\"text-align: center\"><iframe width=\"60%\" height=\"500\" src=\"https://matplotlib.org/1.4.3/gallery.html#\" frameborder=\"0\" allow=\"accelerometer; autoplay; encrypted-media; gyroscope; picture-in-picture\" allowfullscreen></iframe></div>"
      ],
      "text/plain": [
       "<IPython.core.display.HTML object>"
      ]
     },
     "execution_count": 25,
     "metadata": {},
     "output_type": "execute_result"
    }
   ],
   "source": [
    "### MATPLOTLIB GALLERY ###\n",
    "from IPython.display import *\n",
    "HTML('<div style=\"text-align: center\"><iframe width=\"60%\" height=\"500\" src=\"https://matplotlib.org/1.4.3/gallery.html#\" frameborder=\"0\" allow=\"accelerometer; autoplay; encrypted-media; gyroscope; picture-in-picture\" allowfullscreen></iframe></div>')\n"
   ]
  },
  {
   "cell_type": "markdown",
   "metadata": {
    "slideshow": {
     "slide_type": "skip"
    }
   },
   "source": [
    "<!--Navigate back to table of contents-->\n",
    "<div alig=\"right\" style=\"text-align: right\">\n",
    "    <span>\n",
    "        <a style=\"color:#FFFFFF; background-color:#0D0D0D; border:1px solid #FFFFFF; border-color:#FFFFFF;border-radius:5px;border-width:0px;display:inline-block;font-family:arial,helvetica,sans-serif;font-size:10px;letter-spacing:0px;line-height:10px;padding:10px 20px;text-align:center;text-decoration:none; align:center\" href=\"#Part_table_contents\" name=\"Table of Contents\"  id=\"Part_table_contents\"> \n",
    "            Table of Contents \n",
    "        </a>\n",
    "    </span>\n",
    "</div>\n",
    "<!-------------------------------------->"
   ]
  },
  {
   "cell_type": "markdown",
   "metadata": {
    "slideshow": {
     "slide_type": "slide"
    }
   },
   "source": [
    "<hr style=\"border: 1px solid#0B0B0B;\" />\n",
    "\n",
    "### Python Graph Gallery"
   ]
  },
  {
   "cell_type": "code",
   "execution_count": 26,
   "metadata": {
    "slideshow": {
     "slide_type": "subslide"
    }
   },
   "outputs": [
    {
     "data": {
      "text/html": [
       "<div style=\"text-align: center\"><iframe width=\"60%\" height=\"500\" src=\"https://python-graph-gallery.com/\" frameborder=\"0\" allow=\"accelerometer; autoplay; encrypted-media; gyroscope; picture-in-picture\" allowfullscreen></iframe></div>"
      ],
      "text/plain": [
       "<IPython.core.display.HTML object>"
      ]
     },
     "execution_count": 26,
     "metadata": {},
     "output_type": "execute_result"
    }
   ],
   "source": [
    "### THE PYTHON GRAPH GALLERY ###\n",
    "HTML('<div style=\"text-align: center\"><iframe width=\"60%\" height=\"500\" src=\"https://python-graph-gallery.com/\" frameborder=\"0\" allow=\"accelerometer; autoplay; encrypted-media; gyroscope; picture-in-picture\" allowfullscreen></iframe></div>')"
   ]
  },
  {
   "cell_type": "markdown",
   "metadata": {
    "slideshow": {
     "slide_type": "skip"
    }
   },
   "source": [
    "<!--Navigate back to table of contents-->\n",
    "<div alig=\"right\" style=\"text-align: right\">\n",
    "    <span>\n",
    "        <a style=\"color:#FFFFFF; background-color:#0D0D0D; border:1px solid #FFFFFF; border-color:#FFFFFF;border-radius:5px;border-width:0px;display:inline-block;font-family:arial,helvetica,sans-serif;font-size:10px;letter-spacing:0px;line-height:10px;padding:10px 20px;text-align:center;text-decoration:none; align:center\" href=\"#Part_table_contents\" name=\"Table of Contents\"  id=\"Part_table_contents\"> \n",
    "            Table of Contents \n",
    "        </a>\n",
    "    </span>\n",
    "</div>\n",
    "<!-------------------------------------->"
   ]
  },
  {
   "cell_type": "markdown",
   "metadata": {
    "slideshow": {
     "slide_type": "skip"
    }
   },
   "source": [
    "<hr style=\"border: 1px solid#0B0B0B;\" />\n",
    "\n",
    "### Seaborn Gallery"
   ]
  },
  {
   "cell_type": "code",
   "execution_count": 27,
   "metadata": {
    "slideshow": {
     "slide_type": "skip"
    }
   },
   "outputs": [
    {
     "data": {
      "text/html": [
       "<div style=\"text-align: center\"><iframe width=\"60%\" height=\"500\" src=\"https://seaborn.pydata.org/examples/index.html\" frameborder=\"0\" allow=\"accelerometer; autoplay; encrypted-media; gyroscope; picture-in-picture\" allowfullscreen></iframe></div>"
      ],
      "text/plain": [
       "<IPython.core.display.HTML object>"
      ]
     },
     "execution_count": 27,
     "metadata": {},
     "output_type": "execute_result"
    }
   ],
   "source": [
    "### SEABORN GALLERY ###\n",
    "HTML('<div style=\"text-align: center\"><iframe width=\"60%\" height=\"500\" src=\"https://seaborn.pydata.org/examples/index.html\" frameborder=\"0\" allow=\"accelerometer; autoplay; encrypted-media; gyroscope; picture-in-picture\" allowfullscreen></iframe></div>')\n"
   ]
  },
  {
   "cell_type": "markdown",
   "metadata": {},
   "source": [
    "<!--Navigate back to table of contents-->\n",
    "<div alig=\"right\" style=\"text-align: right\">\n",
    "    <span>\n",
    "        <a style=\"color:#FFFFFF; background-color:#0D0D0D; border:1px solid #FFFFFF; border-color:#FFFFFF;border-radius:5px;border-width:0px;display:inline-block;font-family:arial,helvetica,sans-serif;font-size:10px;letter-spacing:0px;line-height:10px;padding:10px 20px;text-align:center;text-decoration:none; align:center\" href=\"#Part_table_contents\" name=\"Table of Contents\"  id=\"Part_table_contents\"> \n",
    "            Table of Contents \n",
    "        </a>\n",
    "    </span>\n",
    "</div>\n",
    "<!-------------------------------------->"
   ]
  },
  {
   "cell_type": "markdown",
   "metadata": {
    "slideshow": {
     "slide_type": "skip"
    }
   },
   "source": [
    "<hr style=\"border: 1px solid#0B0B0B;\" />\n",
    "\n",
    "### General Visualization Information"
   ]
  },
  {
   "cell_type": "code",
   "execution_count": 28,
   "metadata": {
    "scrolled": false,
    "slideshow": {
     "slide_type": "skip"
    }
   },
   "outputs": [
    {
     "data": {
      "text/html": [
       "<div align=\"center\" style=\"text-align: center\"><iframe width=\"60%\" height=\"500\" src=\"https://coolinfographics.com/dataviz-guides\" frameborder=\"0\" allowfullscreen></iframe></div>"
      ],
      "text/plain": [
       "<IPython.core.display.HTML object>"
      ]
     },
     "execution_count": 28,
     "metadata": {},
     "output_type": "execute_result"
    }
   ],
   "source": [
    "### http://www.visual-literacy.org/periodic_table/periodic_table.pdf ###\n",
    "HTML('<div align=\"center\" style=\"text-align: center\"><iframe width=\"60%\" height=\"500\" src=\"https://coolinfographics.com/dataviz-guides\" frameborder=\"0\" allowfullscreen></iframe></div>')"
   ]
  },
  {
   "cell_type": "markdown",
   "metadata": {
    "slideshow": {
     "slide_type": "skip"
    }
   },
   "source": [
    "<!--Navigate back to table of contents-->\n",
    "<div alig=\"right\" style=\"text-align: right\">\n",
    "    <span>\n",
    "        <a style=\"color:#FFFFFF; background-color:#0D0D0D; border:1px solid #FFFFFF; border-color:#FFFFFF;border-radius:5px;border-width:0px;display:inline-block;font-family:arial,helvetica,sans-serif;font-size:10px;letter-spacing:0px;line-height:10px;padding:10px 20px;text-align:center;text-decoration:none; align:center\" href=\"#Part_table_contents\" name=\"Table of Contents\"  id=\"Part_table_contents\"> \n",
    "            Table of Contents \n",
    "        </a>\n",
    "    </span>\n",
    "</div>\n",
    "<!-------------------------------------->\n",
    "<hr style=\"border: 1px solid#0B0B0B;\" />"
   ]
  },
  {
   "cell_type": "code",
   "execution_count": 2,
   "metadata": {},
   "outputs": [],
   "source": [
    "### Display plotly iframe within HTML ###\n",
    "from IPython.display import HTML\n",
    "\n",
    "### Embed videos in HTML Grids (more than one way to create columns!) ###\n",
    "rest_1 = HTML(\"\"\"\n",
    "    <table role=\"module\" background-color:##f1f8fd border=\"0\" cellpadding=\"0\" cellspacing=\"0\" width=\"100%\" height=\"500\" style=\"table-layout:fixed\">\n",
    "        <tbody><tr> \n",
    "            <!--padding: t,r,b,l-->\n",
    "           \n",
    "            <!-- LEFT COLUMN -->\n",
    "            <td style=\"background-color:#f1f8fd;padding:20px;text-align:center\" height=\"100%\" width=\"70%\" valign=\"center\" bgcolor=\"#51EA50\">\n",
    "                <div style=\"text-align:center; padding:0px 0px\" >\n",
    "\n",
    "                    <!-- EMBEDDED VIDEO -->\n",
    "                    <iframe padding:10px width=\"100%\" height=\"500\" src=\"https://www.youtube.com/embed/sOS9aOIXPEk?controls=0&start=12&autoplay=0&vq=hd1080\" \n",
    "                        frameborder=\"0\" allow=\"accelerometer; autoplay; encrypted-media; gyroscope; picture-in-picture\" allowfullscreen>\n",
    "                    </iframe>    \n",
    "                </div>\n",
    "            </td>\n",
    "            \n",
    "            <!-- RIGHT COLUMN -->\n",
    "            <td style=\"background-color:#f1f8fd;padding:0px 30px 0px 30px ;text-align:left\" height=\"100%\" width=\"30%\" valign=\"bottom\" bgcolor=\"#E950EA\">\n",
    "                \n",
    "                <!-- TEXT STACK -->\n",
    "                <div style=\"padding:0px 20px 0px 0px;text-align:right; box-sizing:content-box;margin-top:0px; margin-bottom:0px;\n",
    "                    font-style:normal;font-variant-ligatures:normal;font-variant-caps:normal;font-weight:400;\n",
    "                    font-family:'Open Sans','Helvetica Neue', Helvetica, Arial, sans-serif;font-size:14px;color:rgb(74,74,74)\">&nbsp;\n",
    "                    <span style=\"font-size:34px; color: #db7734\">We'll pick back up at</span>\n",
    "                </div>\n",
    "                <div style=\"padding:0px 20px 0px 0px;text-align:right; box-sizing:content-box;margin-top:40px; margin-bottom:0px;\n",
    "                    font-style:normal;font-variant-ligatures:normal;font-variant-caps:normal;font-weight:800;\n",
    "                    font-family:'Open Sans','Helvetica Neue', Helvetica, Arial, sans-serif;font-size:22px;color:rgb(74,74,74)\">&nbsp;\n",
    "                        <span style=\"font-size:24px; color: #4e5e6e\">ehcastroh<span>\n",
    "                </div>\n",
    "                \n",
    "            </td>\n",
    "        </tr></tbody>\n",
    "    </table>\n",
    "    \"\"\"\n",
    "    )\n",
    "\n",
    "### Psst! In the iframe tag, note the query arguments being pased after the video id -- '?&' -- These queries can make selecting the type of data you want to display much easier ###"
   ]
  },
  {
   "cell_type": "code",
   "execution_count": 3,
   "metadata": {},
   "outputs": [
    {
     "data": {
      "text/html": [
       "\n",
       "    <table role=\"module\" background-color:##f1f8fd border=\"0\" cellpadding=\"0\" cellspacing=\"0\" width=\"100%\" height=\"500\" style=\"table-layout:fixed\">\n",
       "        <tbody><tr> \n",
       "            <!--padding: t,r,b,l-->\n",
       "           \n",
       "            <!-- LEFT COLUMN -->\n",
       "            <td style=\"background-color:#f1f8fd;padding:20px;text-align:center\" height=\"100%\" width=\"70%\" valign=\"center\" bgcolor=\"#51EA50\">\n",
       "                <div style=\"text-align:center; padding:0px 0px\" >\n",
       "\n",
       "                    <!-- EMBEDDED VIDEO -->\n",
       "                    <iframe padding:10px width=\"100%\" height=\"500\" src=\"https://www.youtube.com/embed/sOS9aOIXPEk?controls=0&start=12&autoplay=0&vq=hd1080\" \n",
       "                        frameborder=\"0\" allow=\"accelerometer; autoplay; encrypted-media; gyroscope; picture-in-picture\" allowfullscreen>\n",
       "                    </iframe>    \n",
       "                </div>\n",
       "            </td>\n",
       "            \n",
       "            <!-- RIGHT COLUMN -->\n",
       "            <td style=\"background-color:#f1f8fd;padding:0px 30px 0px 30px ;text-align:left\" height=\"100%\" width=\"30%\" valign=\"bottom\" bgcolor=\"#E950EA\">\n",
       "                \n",
       "                <!-- TEXT STACK -->\n",
       "                <div style=\"padding:0px 20px 0px 0px;text-align:right; box-sizing:content-box;margin-top:0px; margin-bottom:0px;\n",
       "                    font-style:normal;font-variant-ligatures:normal;font-variant-caps:normal;font-weight:400;\n",
       "                    font-family:'Open Sans','Helvetica Neue', Helvetica, Arial, sans-serif;font-size:14px;color:rgb(74,74,74)\">&nbsp;\n",
       "                    <span style=\"font-size:34px; color: #db7734\">We'll pick back up at</span>\n",
       "                </div>\n",
       "                <div style=\"padding:0px 20px 0px 0px;text-align:right; box-sizing:content-box;margin-top:40px; margin-bottom:0px;\n",
       "                    font-style:normal;font-variant-ligatures:normal;font-variant-caps:normal;font-weight:800;\n",
       "                    font-family:'Open Sans','Helvetica Neue', Helvetica, Arial, sans-serif;font-size:22px;color:rgb(74,74,74)\">&nbsp;\n",
       "                        <span style=\"font-size:24px; color: #4e5e6e\">ehcastroh<span>\n",
       "                </div>\n",
       "                \n",
       "            </td>\n",
       "        </tr></tbody>\n",
       "    </table>\n",
       "    "
      ],
      "text/plain": [
       "<IPython.core.display.HTML object>"
      ]
     },
     "execution_count": 3,
     "metadata": {},
     "output_type": "execute_result"
    }
   ],
   "source": [
    "rest_1"
   ]
  },
  {
   "cell_type": "markdown",
   "metadata": {},
   "source": [
    "<hr style=\"border: 8px solid#0B0B0B;\" />"
   ]
  }
 ],
 "metadata": {
  "anaconda-cloud": {},
  "celltoolbar": "Slideshow",
  "kernelspec": {
   "display_name": "Python 3",
   "language": "python",
   "name": "python3"
  },
  "language_info": {
   "codemirror_mode": {
    "name": "ipython",
    "version": 3
   },
   "file_extension": ".py",
   "mimetype": "text/x-python",
   "name": "python",
   "nbconvert_exporter": "python",
   "pygments_lexer": "ipython3",
   "version": "3.6.10"
  },
  "livereveal": {
   "scroll": true
  },
  "rise": {
   "enable_chalkboard": true,
   "height": "90%",
   "width": "100%"
  }
 },
 "nbformat": 4,
 "nbformat_minor": 2
}
